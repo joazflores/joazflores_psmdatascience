{
  "nbformat": 4,
  "nbformat_minor": 0,
  "metadata": {
    "colab": {
      "provenance": []
    },
    "kernelspec": {
      "name": "python3",
      "display_name": "Python 3"
    },
    "language_info": {
      "name": "python"
    }
  },
  "cells": [
    {
      "cell_type": "code",
      "execution_count": 461,
      "metadata": {
        "id": "4OSfzElc8QTv"
      },
      "outputs": [],
      "source": [
        "records = {1:['James','28','MBA'],\n",
        "           2:['Ralph','27','LAW'],\n",
        "           3:['Gerome','31','PSMDS']}"
      ]
    },
    {
      "cell_type": "code",
      "source": [
        "records.keys()"
      ],
      "metadata": {
        "colab": {
          "base_uri": "https://localhost:8080/",
          "height": 0
        },
        "id": "zbEH0s5A9qOy",
        "outputId": "7dda4543-6d97-4d2d-a6b8-4bb74c6ce935"
      },
      "execution_count": 462,
      "outputs": [
        {
          "output_type": "execute_result",
          "data": {
            "text/plain": [
              "dict_keys([1, 2, 3])"
            ]
          },
          "metadata": {},
          "execution_count": 462
        }
      ]
    },
    {
      "cell_type": "code",
      "source": [
        "list(records.keys())[-1]"
      ],
      "metadata": {
        "colab": {
          "base_uri": "https://localhost:8080/",
          "height": 0
        },
        "id": "-WAkp30x-x6U",
        "outputId": "d8eb5d6b-c148-480f-b830-ad69b9dc8bf7"
      },
      "execution_count": 463,
      "outputs": [
        {
          "output_type": "execute_result",
          "data": {
            "text/plain": [
              "3"
            ]
          },
          "metadata": {},
          "execution_count": 463
        }
      ]
    },
    {
      "cell_type": "code",
      "source": [
        "# Create new records.\n",
        "def add_record(records, details):\n",
        "  new_id = list(records.keys())[-1] + 1\n",
        "  records[new_id] = details\n",
        "  print('new record added')"
      ],
      "metadata": {
        "id": "SwEXE7Pr--y5"
      },
      "execution_count": 464,
      "outputs": []
    },
    {
      "cell_type": "code",
      "source": [
        "details = ['Jeff','20','Data Science']\n",
        "add_record(records, details)"
      ],
      "metadata": {
        "colab": {
          "base_uri": "https://localhost:8080/",
          "height": 0
        },
        "id": "9qUJbt8Y_y-s",
        "outputId": "4ab5e239-43b3-49a0-d9fa-be538d680ff4"
      },
      "execution_count": 465,
      "outputs": [
        {
          "output_type": "stream",
          "name": "stdout",
          "text": [
            "new record added\n"
          ]
        }
      ]
    },
    {
      "cell_type": "code",
      "source": [
        "# Create new records (Multiple).\n",
        "# (Edge case duplicate entry) Skips entries that alredy exist.\n",
        "# (Edge case blank entry) Skips blank entries.\n",
        "def addrecordsmultiple(records, details):\n",
        "  new_id = list(records.keys())[-1]\n",
        "  for i in details:\n",
        "    if not i:\n",
        "      print('Skipped blank entry.')\n",
        "    elif i not in records.values():\n",
        "      records[new_id] = i\n",
        "      new_id += 1\n",
        "    else:\n",
        "      print(f'Duplicate entry skipped: {i}')\n",
        "  print('New records added')"
      ],
      "metadata": {
        "id": "KvZoOhW6QfAP"
      },
      "execution_count": 466,
      "outputs": []
    },
    {
      "cell_type": "code",
      "source": [
        "details = [\n",
        "          ['Jeff','20','Data Science'],\n",
        "          ['Fidel','29','Civil Engineering'],\n",
        "          [],\n",
        "          ['Gabrielle','31','Political Science'],\n",
        "          [],\n",
        "          ['Benedict','30','Cybersecurity'],\n",
        "          []\n",
        "          ]\n",
        "\n",
        "addrecordsmultiple(records,details)\n",
        "records"
      ],
      "metadata": {
        "colab": {
          "base_uri": "https://localhost:8080/",
          "height": 0
        },
        "id": "hiO8JlnPWJrH",
        "outputId": "fe7f6e74-2910-46f2-8335-b203cc45c616"
      },
      "execution_count": 478,
      "outputs": [
        {
          "output_type": "stream",
          "name": "stdout",
          "text": [
            "Duplicate entry skipped: ['Jeff', '20', 'Data Science']\n",
            "Duplicate entry skipped: ['Fidel', '29', 'Civil Engineering']\n",
            "Skipped blank entry.\n",
            "Duplicate entry skipped: ['Gabrielle', '31', 'Political Science']\n",
            "Skipped blank entry.\n",
            "Duplicate entry skipped: ['Benedict', '30', 'Cybersecurity']\n",
            "Skipped blank entry.\n",
            "New records added\n"
          ]
        },
        {
          "output_type": "execute_result",
          "data": {
            "text/plain": [
              "{1: ['James', '28', 'MBA'],\n",
              " 2: ['Ralph', '27', 'LAW'],\n",
              " 4: ['Fidel', 21, 'Civil Engineering'],\n",
              " 5: ['Gabrielle', '31', 'Political Science'],\n",
              " 6: ['Jeff', '20', 'Data Science'],\n",
              " 7: ['Fidel', '29', 'Civil Engineering'],\n",
              " 8: ['Benedict', '30', 'Cybersecurity']}"
            ]
          },
          "metadata": {},
          "execution_count": 478
        }
      ]
    },
    {
      "cell_type": "code",
      "source": [
        "findID = 4\n",
        "if findID not in records:\n",
        " print('ID not found.')\n",
        "else:\n",
        " print(records[findID])"
      ],
      "metadata": {
        "colab": {
          "base_uri": "https://localhost:8080/",
          "height": 0
        },
        "id": "rPf6ZCduBSI0",
        "outputId": "27705ba5-ccfe-4010-b437-a23a41769357"
      },
      "execution_count": 468,
      "outputs": [
        {
          "output_type": "stream",
          "name": "stdout",
          "text": [
            "['Fidel', '29', 'Civil Engineering']\n"
          ]
        }
      ]
    },
    {
      "cell_type": "code",
      "source": [
        "# Read records.\n",
        "# (Edge case ID does not exist) lookup the ID and give error message ID not found if the ID does not exist.\n",
        "def readrecord (records, findID):\n",
        "  if findID not in records:\n",
        "    return 'ID not found'\n",
        "  else:\n",
        "    return records[findID]"
      ],
      "metadata": {
        "id": "UJZ9EUfgAtg5"
      },
      "execution_count": 469,
      "outputs": []
    },
    {
      "cell_type": "code",
      "source": [
        "print(readrecord(records, 4))\n",
        "print(readrecord(records, 5))"
      ],
      "metadata": {
        "colab": {
          "base_uri": "https://localhost:8080/",
          "height": 0
        },
        "id": "Rd1Lo9xiCmjh",
        "outputId": "70785a0d-2ee3-4fb6-d61a-48f042a8b45a"
      },
      "execution_count": 470,
      "outputs": [
        {
          "output_type": "stream",
          "name": "stdout",
          "text": [
            "['Fidel', '29', 'Civil Engineering']\n",
            "['Gabrielle', '31', 'Political Science']\n"
          ]
        }
      ]
    },
    {
      "cell_type": "code",
      "source": [
        "findID = 4\n",
        "index = 2\n",
        "records[findID][index]"
      ],
      "metadata": {
        "colab": {
          "base_uri": "https://localhost:8080/",
          "height": 35
        },
        "id": "Jo4OzY-iElcv",
        "outputId": "20165bcc-d89c-4b94-ee1f-32730e9907ce"
      },
      "execution_count": 471,
      "outputs": [
        {
          "output_type": "execute_result",
          "data": {
            "text/plain": [
              "'Civil Engineering'"
            ],
            "application/vnd.google.colaboratory.intrinsic+json": {
              "type": "string"
            }
          },
          "metadata": {},
          "execution_count": 471
        }
      ]
    },
    {
      "cell_type": "code",
      "source": [
        "# Update records.\n",
        "# (Edge case ID does not exist) lookup the ID and give error message ID not found if the ID does not exist.\n",
        "def updateRecord(records,findID,index,newVal):\n",
        "  if findID not in records:\n",
        "    return 'ID not found'\n",
        "  else:\n",
        "    records[findID][index] = newVal\n",
        "    print(f'Record with ID {findID} has been updated.')\n",
        "    return records[findID]"
      ],
      "metadata": {
        "id": "tHCKK7nmDDDm"
      },
      "execution_count": 472,
      "outputs": []
    },
    {
      "cell_type": "code",
      "source": [
        "records"
      ],
      "metadata": {
        "colab": {
          "base_uri": "https://localhost:8080/",
          "height": 0
        },
        "id": "vrWsZcjPFmbe",
        "outputId": "b938e0ea-a68d-40f7-9d17-4138a96db602"
      },
      "execution_count": 473,
      "outputs": [
        {
          "output_type": "execute_result",
          "data": {
            "text/plain": [
              "{1: ['James', '28', 'MBA'],\n",
              " 2: ['Ralph', '27', 'LAW'],\n",
              " 3: ['Gerome', '31', 'PSMDS'],\n",
              " 4: ['Fidel', '29', 'Civil Engineering'],\n",
              " 5: ['Gabrielle', '31', 'Political Science'],\n",
              " 6: ['Benedict', '30', 'Cybersecurity']}"
            ]
          },
          "metadata": {},
          "execution_count": 473
        }
      ]
    },
    {
      "cell_type": "code",
      "source": [
        "updateRecord(records,4,1,21)\n",
        "print(records)"
      ],
      "metadata": {
        "colab": {
          "base_uri": "https://localhost:8080/",
          "height": 0
        },
        "id": "CETiV_n1F6J2",
        "outputId": "0c9767a2-9db8-4e97-a642-7f593b96c6da"
      },
      "execution_count": 474,
      "outputs": [
        {
          "output_type": "stream",
          "name": "stdout",
          "text": [
            "Record with ID 4 has been updated.\n",
            "{1: ['James', '28', 'MBA'], 2: ['Ralph', '27', 'LAW'], 3: ['Gerome', '31', 'PSMDS'], 4: ['Fidel', 21, 'Civil Engineering'], 5: ['Gabrielle', '31', 'Political Science'], 6: ['Benedict', '30', 'Cybersecurity']}\n"
          ]
        }
      ]
    },
    {
      "cell_type": "code",
      "source": [
        "# Delete records.\n",
        "def deleteRecords(records, deleteID):\n",
        "  del records[deleteID]\n",
        "  return records"
      ],
      "metadata": {
        "id": "FWz9QKRZHeN0"
      },
      "execution_count": 475,
      "outputs": []
    },
    {
      "cell_type": "code",
      "source": [
        "deleteRecords(records, 3)"
      ],
      "metadata": {
        "colab": {
          "base_uri": "https://localhost:8080/",
          "height": 0
        },
        "id": "v4ESQy5yMXOf",
        "outputId": "2e189429-ecfd-423d-8219-4ab3de9abd51"
      },
      "execution_count": 476,
      "outputs": [
        {
          "output_type": "execute_result",
          "data": {
            "text/plain": [
              "{1: ['James', '28', 'MBA'],\n",
              " 2: ['Ralph', '27', 'LAW'],\n",
              " 4: ['Fidel', 21, 'Civil Engineering'],\n",
              " 5: ['Gabrielle', '31', 'Political Science'],\n",
              " 6: ['Benedict', '30', 'Cybersecurity']}"
            ]
          },
          "metadata": {},
          "execution_count": 476
        }
      ]
    },
    {
      "cell_type": "code",
      "source": [],
      "metadata": {
        "id": "JbhyA6NSZx4Y"
      },
      "execution_count": 476,
      "outputs": []
    }
  ]
}