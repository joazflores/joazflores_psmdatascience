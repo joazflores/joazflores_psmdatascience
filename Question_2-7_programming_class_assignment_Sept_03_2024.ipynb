{
 "cells": [
  {
   "cell_type": "code",
   "execution_count": 38,
   "id": "66b67a16-bad6-4ed7-8d8e-6cd5ab0592cc",
   "metadata": {},
   "outputs": [
    {
     "name": "stdout",
     "output_type": "stream",
     "text": [
      "[1, 2, 3, '?', '?', '?', 4]\n"
     ]
    }
   ],
   "source": [
    "#2. Define a list named L that contains four strings or numbers. Experiment with the following boundary cases.\n",
    "\n",
    "#L = [1,2,3,4]\n",
    "#print(L)\n",
    "\n",
    "#2.1 Attempt to index out of bounds. (Ex. L[66])\n",
    "\n",
    "#print(L[66])\n",
    "#It gives an IndexError message that list index is out of range.\n",
    "\n",
    "#2.2 Attempt to slice out of bounds. (Ex. L[-9999:100])\n",
    "\n",
    "#print(L[-9999:100])\n",
    "#prints the entire values of list L.\n",
    "\n",
    "#2.3 Try extracting a sequence in reverse. Make the lower bound higher than the upper bound (Ex. L[3:1]). Attempt to perform L[3:1] = ['?']. Explain the output.\n",
    "\n",
    "#L[3:1] = ['?']\n",
    "#print(L)\n",
    "#It inserts the value '?' between values 3 and 4."
   ]
  },
  {
   "cell_type": "code",
   "execution_count": 91,
   "id": "48db63f8-c36b-4b38-8245-4a27fbe65f33",
   "metadata": {},
   "outputs": [
    {
     "ename": "TypeError",
     "evalue": "can only assign an iterable",
     "output_type": "error",
     "traceback": [
      "\u001b[1;31m---------------------------------------------------------------------------\u001b[0m",
      "\u001b[1;31mTypeError\u001b[0m                                 Traceback (most recent call last)",
      "Cell \u001b[1;32mIn[91], line 27\u001b[0m\n\u001b[0;32m      3\u001b[0m L \u001b[38;5;241m=\u001b[39m [\u001b[38;5;241m1\u001b[39m,\u001b[38;5;241m2\u001b[39m,\u001b[38;5;241m3\u001b[39m,\u001b[38;5;241m4\u001b[39m]\n\u001b[0;32m      5\u001b[0m \u001b[38;5;66;03m#3.1 Assign a list as one of its elements.\u001b[39;00m\n\u001b[0;32m      6\u001b[0m \n\u001b[0;32m      7\u001b[0m \u001b[38;5;66;03m#L[2] = [5,6,7,8]\u001b[39;00m\n\u001b[1;32m   (...)\u001b[0m\n\u001b[0;32m     24\u001b[0m \n\u001b[0;32m     25\u001b[0m \u001b[38;5;66;03m#3.5 Assign a non-sequence value to a slice.\u001b[39;00m\n\u001b[1;32m---> 27\u001b[0m L[\u001b[38;5;241m1\u001b[39m:\u001b[38;5;241m3\u001b[39m] \u001b[38;5;241m=\u001b[39m \u001b[38;5;241m30\u001b[39m\n\u001b[0;32m     28\u001b[0m \u001b[38;5;28mprint\u001b[39m(L)\n",
      "\u001b[1;31mTypeError\u001b[0m: can only assign an iterable"
     ]
    }
   ],
   "source": [
    "#3. Define another list L, perform the following and use comments to explain:\n",
    "\n",
    "#L = [1,2,3,4]\n",
    "#print[L]\n",
    "\n",
    "#3.1 Assign a list as one of its elements.\n",
    "\n",
    "#L[2] = [5,6,7,8]\n",
    "#print(L)\n",
    "\n",
    "#3.2 Assign an empty list to a range.\n",
    "\n",
    "#L[1:3] = []\n",
    "#print(L)\n",
    "\n",
    "#3.3 Delete an item in your list using the del statement.\n",
    "\n",
    "#del L[2]\n",
    "#print(L)\n",
    "\n",
    "#3.4 Delete an entire range from your list.\n",
    "\n",
    "#del L[1:3]\n",
    "#print(L)\n",
    "\n",
    "#3.5 Assign a non-sequence value to a slice.\n",
    "\n",
    "#L[1:3] = 30\n",
    "#print(L)"
   ]
  },
  {
   "cell_type": "code",
   "execution_count": 116,
   "id": "59e2904b-3b21-4565-b66d-e934d69f6b65",
   "metadata": {},
   "outputs": [
    {
     "ename": "KeyError",
     "evalue": "'e'",
     "output_type": "error",
     "traceback": [
      "\u001b[1;31m---------------------------------------------------------------------------\u001b[0m",
      "\u001b[1;31mKeyError\u001b[0m                                  Traceback (most recent call last)",
      "Cell \u001b[1;32mIn[116], line 20\u001b[0m\n\u001b[0;32m      3\u001b[0m D \u001b[38;5;241m=\u001b[39m {\u001b[38;5;124m\"\u001b[39m\u001b[38;5;124ma\u001b[39m\u001b[38;5;124m\"\u001b[39m:\u001b[38;5;124m\"\u001b[39m\u001b[38;5;124mapple\u001b[39m\u001b[38;5;124m\"\u001b[39m, \u001b[38;5;124m\"\u001b[39m\u001b[38;5;124mb\u001b[39m\u001b[38;5;124m\"\u001b[39m:\u001b[38;5;124m\"\u001b[39m\u001b[38;5;124mpineapple\u001b[39m\u001b[38;5;124m\"\u001b[39m, \u001b[38;5;124m\"\u001b[39m\u001b[38;5;124mc\u001b[39m\u001b[38;5;124m\"\u001b[39m:\u001b[38;5;124m\"\u001b[39m\u001b[38;5;124mkiwi\u001b[39m\u001b[38;5;124m\"\u001b[39m}\n\u001b[0;32m      4\u001b[0m \u001b[38;5;66;03m#print(D)\u001b[39;00m\n\u001b[0;32m      5\u001b[0m \n\u001b[0;32m      6\u001b[0m \u001b[38;5;66;03m#4.1 What happens if you try to index a nonexistent key d (D[‘d’])?\u001b[39;00m\n\u001b[1;32m   (...)\u001b[0m\n\u001b[0;32m     17\u001b[0m \n\u001b[0;32m     18\u001b[0m \u001b[38;5;66;03m#4.3 Compare this to out of bounds assignments.\u001b[39;00m\n\u001b[1;32m---> 20\u001b[0m \u001b[38;5;28mprint\u001b[39m(D[\u001b[38;5;124m\"\u001b[39m\u001b[38;5;124me\u001b[39m\u001b[38;5;124m\"\u001b[39m])\n",
      "\u001b[1;31mKeyError\u001b[0m: 'e'"
     ]
    }
   ],
   "source": [
    "#4. Create a dictionary named D with three entries, for keys a, b, and c.\n",
    "\n",
    "#D = {\"a\":\"apple\", \"b\":\"pineapple\", \"c\":\"kiwi\"}\n",
    "#print(D)\n",
    "\n",
    "#4.1 What happens if you try to index a nonexistent key d (D[‘d’])?\n",
    "\n",
    "#D[\"d\"]\n",
    "#print(D)\n",
    "#It gives a key error.\n",
    "\n",
    "#4.2 What does python do if you try to assign to a nonexistent key?\n",
    "\n",
    "#D[\"d\"] = 5\n",
    "#print(D)\n",
    "#Python creates a new key and assignes the value to that key.\n",
    "\n",
    "#4.3 Compare this to out of bounds assignments.\n",
    "\n",
    "#print(D[\"e\"])\n",
    "#It gives key error instead of index error."
   ]
  },
  {
   "cell_type": "code",
   "execution_count": 162,
   "id": "94452702-7840-45f8-84ab-316d90fbb77a",
   "metadata": {},
   "outputs": [
    {
     "ename": "TypeError",
     "evalue": "can only concatenate str (not \"int\") to str",
     "output_type": "error",
     "traceback": [
      "\u001b[1;31m---------------------------------------------------------------------------\u001b[0m",
      "\u001b[1;31mTypeError\u001b[0m                                 Traceback (most recent call last)",
      "Cell \u001b[1;32mIn[162], line 5\u001b[0m\n\u001b[0;32m      1\u001b[0m \u001b[38;5;66;03m#5. Run tests to answer the following questions:\u001b[39;00m\n\u001b[0;32m      2\u001b[0m \n\u001b[0;32m      3\u001b[0m \u001b[38;5;66;03m#5.1 What happens when you try to use the + operator on different/mixed types?\u001b[39;00m\n\u001b[1;32m----> 5\u001b[0m T \u001b[38;5;241m=\u001b[39m \u001b[38;5;124m\"\u001b[39m\u001b[38;5;124mA\u001b[39m\u001b[38;5;124m\"\u001b[39m\u001b[38;5;241m+\u001b[39m\u001b[38;5;241m1\u001b[39m\u001b[38;5;241m+\u001b[39m\u001b[38;5;241m20.5\u001b[39m\n\u001b[0;32m      6\u001b[0m \u001b[38;5;28mprint\u001b[39m(T)\n",
      "\u001b[1;31mTypeError\u001b[0m: can only concatenate str (not \"int\") to str"
     ]
    }
   ],
   "source": [
    "#5. Run tests to answer the following questions:\n",
    "\n",
    "#5.1 What happens when you try to use the + operator on different/mixed types?\n",
    "\n",
    "#T = \"A\"+1+20.5\n",
    "#print(T)\n",
    "#Throws an error. You can only concatenate the same data types.\n",
    "\n",
    "#5.2 Does + work if one of the operands is a dictionary?\n",
    "\n",
    "#H = [\"a\",\"b\",\"c\",\"d\",\"e\"] + {\"a\":\"f\",\"b\":\"g\",\"c\":\"h\",\"d\":\"i\",\"e\":\"j\"}\n",
    "#print(H)\n",
    "#It throws an error can only concatenate list (not \"dict\") to list\n",
    "\n",
    "#5.3 Try list.append() (use an actual list you created). Does the append() method work for both lists and strings?\n",
    "\n",
    "#List = [\"a\",\"b\",\"c\",\"d\",\"e\"] + [\"f\",\"g\",\"h\",\"i\",\"j\"]\n",
    "#List.append(\"k\")\n",
    "#print(List)\n",
    "\n",
    "#D = \"A\"+\"B\"\n",
    "#D.append(\"C\")\n",
    "#print(D)\n",
    "#Works for lists but not for strings, if append is used on strings it gives an error 'str' object has no attribute 'append'.\n",
    "\n",
    "#5.4 Try concatenating (+) two lists or strings, what happens?\n",
    "\n",
    "#List = [1,2,3,4,5] + [6,7,8,9,10]\n",
    "#print(List)\n",
    "#They get combined into 1 list."
   ]
  },
  {
   "cell_type": "code",
   "execution_count": 170,
   "id": "d8a3499d-ce08-41c1-bc6a-5cc1f1d86658",
   "metadata": {},
   "outputs": [
    {
     "data": {
      "text/plain": [
       "'w'"
      ]
     },
     "execution_count": 170,
     "metadata": {},
     "output_type": "execute_result"
    }
   ],
   "source": [
    "#6. Define a string S of four characters. Then type the following expression: S[0] [0] [0] [0]. Explain what is happening.\n",
    "\n",
    "#S = \"wxyz\"\n",
    "#S[0] [0] [0] [0]\n",
    "#It's indexing the first character w redundantly."
   ]
  },
  {
   "cell_type": "code",
   "execution_count": 200,
   "id": "94244059-0fb3-4b69-bf61-0c6591f35b3b",
   "metadata": {},
   "outputs": [
    {
     "ename": "TypeError",
     "evalue": "'str' object does not support item assignment",
     "output_type": "error",
     "traceback": [
      "\u001b[1;31m---------------------------------------------------------------------------\u001b[0m",
      "\u001b[1;31mTypeError\u001b[0m                                 Traceback (most recent call last)",
      "Cell \u001b[1;32mIn[200], line 8\u001b[0m\n\u001b[0;32m      1\u001b[0m \u001b[38;5;66;03m#7. Define a string S of 4 characters again: S = “spam”. Write an assignment that changes the string to “slam”, using only slicing and concatenation. Does it work? Try index assignment.\u001b[39;00m\n\u001b[0;32m      2\u001b[0m \n\u001b[0;32m      3\u001b[0m \u001b[38;5;66;03m#S = \"spam\"\u001b[39;00m\n\u001b[0;32m      4\u001b[0m \u001b[38;5;66;03m#S = S[0:1] + \"lam\"\u001b[39;00m\n\u001b[0;32m      5\u001b[0m \u001b[38;5;66;03m#print(S)\u001b[39;00m\n\u001b[0;32m      7\u001b[0m S \u001b[38;5;241m=\u001b[39m \u001b[38;5;124m\"\u001b[39m\u001b[38;5;124mspam\u001b[39m\u001b[38;5;124m\"\u001b[39m\n\u001b[1;32m----> 8\u001b[0m S[\u001b[38;5;241m1\u001b[39m] \u001b[38;5;241m=\u001b[39m \u001b[38;5;124m\"\u001b[39m\u001b[38;5;124ml\u001b[39m\u001b[38;5;124m\"\u001b[39m\n\u001b[0;32m      9\u001b[0m \u001b[38;5;28mprint\u001b[39m(S)\n",
      "\u001b[1;31mTypeError\u001b[0m: 'str' object does not support item assignment"
     ]
    }
   ],
   "source": [
    "#7. Define a string S of 4 characters again: S = “spam”. Write an assignment that changes the string to “slam”, using only slicing and concatenation. Does it work? Try index assignment.\n",
    "\n",
    "#S = \"spam\"\n",
    "#S = S[0:1] + \"lam\"\n",
    "#print(S)\n",
    "\n",
    "#S = \"spam\"\n",
    "#S[1] = \"l\"\n",
    "#print(S)\n",
    "#Throws an error 'str' object does not support item assignment."
   ]
  },
  {
   "cell_type": "code",
   "execution_count": null,
   "id": "d398cdcd-9f14-410b-8101-3c6bc63fe8d1",
   "metadata": {},
   "outputs": [],
   "source": []
  }
 ],
 "metadata": {
  "kernelspec": {
   "display_name": "Python 3 (ipykernel)",
   "language": "python",
   "name": "python3"
  },
  "language_info": {
   "codemirror_mode": {
    "name": "ipython",
    "version": 3
   },
   "file_extension": ".py",
   "mimetype": "text/x-python",
   "name": "python",
   "nbconvert_exporter": "python",
   "pygments_lexer": "ipython3",
   "version": "3.12.4"
  }
 },
 "nbformat": 4,
 "nbformat_minor": 5
}
