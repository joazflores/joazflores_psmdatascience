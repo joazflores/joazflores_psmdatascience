{
  "nbformat": 4,
  "nbformat_minor": 0,
  "metadata": {
    "colab": {
      "provenance": []
    },
    "kernelspec": {
      "name": "python3",
      "display_name": "Python 3"
    },
    "language_info": {
      "name": "python"
    }
  },
  "cells": [
    {
      "cell_type": "markdown",
      "source": [
        "Student Name: Joaz Ephraim A. Flores"
      ],
      "metadata": {
        "id": "acU2jn2Ajnmd"
      }
    },
    {
      "cell_type": "code",
      "source": [
        "# Create a new database.\n",
        "import sqlite3\n",
        "conn = sqlite3.connect('joazenrollmentsystem.db')\n",
        "\n",
        "#For purposes of demonstration I did not put a foreign key as it will be difficult to make changes to the tables.\n",
        "\n",
        "# Create the departments table.\n",
        "conn = sqlite3.connect('joazenrollmentsystem.db')\n",
        "cursor = conn.cursor()\n",
        "cursor.execute(\"DROP TABLE IF EXISTS departments\")\n",
        "query = \"\"\"CREATE TABLE departments(\n",
        "           departmentid INTEGER PRIMARY KEY AUTOINCREMENT,\n",
        "           departmentname VARCHAR(100) UNIQUE NOT NULL,\n",
        "           departmentcode VARCHAR(10) UNIQUE NOT NULL)\"\"\"\n",
        "cursor.execute(query)\n",
        "conn.commit()\n",
        "\n",
        "# Create the professors table.\n",
        "conn = sqlite3.connect('joazenrollmentsystem.db')\n",
        "cursor = conn.cursor()\n",
        "cursor.execute(\"DROP TABLE IF EXISTS professors\")\n",
        "query = \"\"\"CREATE TABLE professors(\n",
        "           professorid INTEGER PRIMARY KEY AUTOINCREMENT,\n",
        "           firstname VARCHAR(50) NOT NULL,\n",
        "           lastname VARCHAR(50) NOT NULL,\n",
        "           email VARCHAR(100) UNIQUE NOT NULL,\n",
        "           phone VARCHAR(15) UNIQUE NOT NULL)\"\"\"\n",
        "cursor.execute(query)\n",
        "conn.commit()\n",
        "\n",
        "# Create the students table.\n",
        "conn = sqlite3.connect('joazenrollmentsystem.db')\n",
        "cursor = conn.cursor()\n",
        "cursor.execute(\"DROP TABLE IF EXISTS students\")\n",
        "query = \"\"\"CREATE TABLE students(\n",
        "           studentid INTEGER PRIMARY KEY AUTOINCREMENT,\n",
        "           firstname VARCHAR(50) NOT NULL,\n",
        "           lastname VARCHAR(50) NOT NULL,\n",
        "           email VARCHAR(100) UNIQUE NOT NULL,\n",
        "           phone VARCHAR(15) UNIQUE NOT NULL,\n",
        "           departmentid INT)\"\"\"\n",
        "           # FOREIGN KEY (departmentid) REFERENCES Departments(departmentid)\n",
        "cursor.execute(query)\n",
        "conn.commit()\n",
        "\n",
        "# Create the courses table.\n",
        "conn = sqlite3.connect('joazenrollmentsystem.db')\n",
        "cursor = conn.cursor()\n",
        "cursor.execute(\"DROP TABLE IF EXISTS courses\")\n",
        "query = \"\"\"CREATE TABLE courses(\n",
        "           courseid INTEGER PRIMARY KEY AUTOINCREMENT,\n",
        "           coursename VARCHAR(100) NOT NULL,\n",
        "           coursecode VARCHAR(10) UNIQUE NOT NULL,\n",
        "           departmentid INT)\"\"\"\n",
        "           # FOREIGN KEY (departmentid) REFERENCES Departments(departmentid)\n",
        "cursor.execute(query)\n",
        "conn.commit()\n",
        "\n",
        "# Create the enrollments table.\n",
        "conn = sqlite3.connect('joazenrollmentsystem.db')\n",
        "cursor = conn.cursor()\n",
        "cursor.execute(\"DROP TABLE IF EXISTS enrollments\")\n",
        "query = \"\"\"CREATE TABLE enrollments(\n",
        "           enrollmentid INTEGER PRIMARY KEY AUTOINCREMENT,\n",
        "           studentid INT,\n",
        "           courseid INT,\n",
        "           departmentid INT,\n",
        "           professorid INT,\n",
        "           enrollmentdate DATE NOT NULL,\n",
        "           schoolyear DATE NOT NULL)\"\"\"\n",
        "           # FOREIGN KEY (studentid) REFERENCES Students(studentid),\n",
        "           # FOREIGN KEY (courseid) REFERENCES Courses(courseid),\n",
        "           # FOREIGN KEY (departmentid) REFERENCES Departments(departmentid),\n",
        "           # FOREIGN KEY (professorid) REFERENCES Professors(professorid)\n",
        "cursor.execute(query)\n",
        "conn.commit()\n",
        "conn.close()\n"
      ],
      "metadata": {
        "id": "BRq0cfggx04-"
      },
      "execution_count": 117,
      "outputs": []
    },
    {
      "cell_type": "code",
      "source": [
        "import sqlite3\n",
        "from datetime import date\n",
        "\n",
        "class EnrollmentSystem2:\n",
        "    def __init__(self, db_name=\"joazenrollmentsystem.db\"):\n",
        "        self.db_name = db_name\n",
        "        self.conn = sqlite3.connect(self.db_name)\n",
        "\n",
        "    def close(self): # I use this when I occassionally run into threading issues.\n",
        "        \"\"\"Explicitly close the database connection.\"\"\"\n",
        "        if self.conn:\n",
        "            self.conn.close()\n",
        "            self.conn = None  # Mark the connection as closed\n",
        "\n",
        "    # --- CRUD for Students ---\n",
        "    def add_student(self, firstname, lastname, email, phone, departmentid=None):\n",
        "        \"\"\"Create: Add a new student.\"\"\"\n",
        "        with self.conn: # The WITH keyword in sqlite3 acts like a transaction in SQL. If an error happens during an update it gets rolled back.\n",
        "            self.conn.execute(\"\"\"\n",
        "                INSERT INTO Students (firstname, lastname, email, phone, departmentid)\n",
        "                VALUES (?, ?, ?, ?, ?);\n",
        "            \"\"\", (firstname, lastname, email, phone, departmentid))\n",
        "\n",
        "    def get_students(self):\n",
        "        \"\"\"Read: Retrieve all students.\"\"\"\n",
        "        cursor = self.conn.cursor()\n",
        "        cursor.execute(\"SELECT * FROM Students;\")\n",
        "        return cursor.fetchall()\n",
        "\n",
        "    def update_student(self, studentid, firstname=None, lastname=None, email=None, phone=None, departmentid=None):\n",
        "        \"\"\"Update: Modify a student's information.\"\"\"\n",
        "        updates = []\n",
        "        params = []\n",
        "\n",
        "        if firstname:\n",
        "            updates.append(\"firstname = ?\")\n",
        "            params.append(firstname)\n",
        "        if lastname:\n",
        "            updates.append(\"lastname = ?\")\n",
        "            params.append(lastname)\n",
        "        if email:\n",
        "            updates.append(\"email = ?\")\n",
        "            params.append(email)\n",
        "        if phone:\n",
        "            updates.append(\"phone = ?\")\n",
        "            params.append(phone)\n",
        "        if departmentid:\n",
        "            updates.append(\"departmentid = ?\")\n",
        "            params.append(departmentid)\n",
        "\n",
        "        params.append(studentid) # Added safety against SQL injections.\n",
        "        query = f\"UPDATE Students SET {', '.join(updates)} WHERE studentid = ?;\"\n",
        "\n",
        "        with self.conn:\n",
        "            self.conn.execute(query, params)\n",
        "\n",
        "    def delete_student(self, studentid):\n",
        "        \"\"\"Delete: Remove a student with confirmation.\"\"\"\n",
        "        cursor = self.conn.cursor()\n",
        "        cursor.execute(\"SELECT firstname, lastname FROM Students WHERE studentid = ?;\", (studentid,))\n",
        "        student = cursor.fetchone()\n",
        "\n",
        "        if student:\n",
        "            firstname, lastname = student\n",
        "            confirmation = input(f\"Are you sure you want to delete the student '{firstname} {lastname}' (ID: {studentid})? (yes/no): \").strip().lower()\n",
        "            if confirmation == 'yes':\n",
        "                with self.conn:\n",
        "                    self.conn.execute(\"DELETE FROM Students WHERE studentid = ?;\", (studentid,))\n",
        "                print(f\"Student '{firstname} {lastname}' has been deleted.\")\n",
        "            else:\n",
        "                print(\"Deletion cancelled.\")\n",
        "        else:\n",
        "            print(f\"No student found with ID: {studentid}\")\n",
        "\n",
        "    # --- CRUD for Professors ---\n",
        "    def add_professor(self, firstname, lastname, email, phone):\n",
        "        \"\"\"Create: Add a new professor.\"\"\"\n",
        "        with self.conn:\n",
        "            self.conn.execute(\"\"\"\n",
        "                INSERT INTO Professors (firstname, lastname, email, phone)\n",
        "                VALUES (?, ?, ?, ?);\n",
        "            \"\"\", (firstname, lastname, email, phone))\n",
        "\n",
        "    def get_professors(self):\n",
        "        \"\"\"Read: Retrieve all professors.\"\"\"\n",
        "        cursor = self.conn.cursor()\n",
        "        cursor.execute(\"SELECT * FROM Professors;\")\n",
        "        return cursor.fetchall()\n",
        "\n",
        "    def update_professor(self, professorid, firstname=None, lastname=None, email=None, phone=None):\n",
        "        \"\"\"Update: Modify a professor's information.\"\"\"\n",
        "        updates = []\n",
        "        params = []\n",
        "\n",
        "        if firstname:\n",
        "            updates.append(\"firstname = ?\")\n",
        "            params.append(firstname)\n",
        "        if lastname:\n",
        "            updates.append(\"lastname = ?\")\n",
        "            params.append(lastname)\n",
        "        if email:\n",
        "            updates.append(\"email = ?\")\n",
        "            params.append(email)\n",
        "        if phone:\n",
        "            updates.append(\"phone = ?\")\n",
        "            params.append(phone)\n",
        "\n",
        "        params.append(professorid)\n",
        "        query = f\"UPDATE Professors SET {', '.join(updates)} WHERE professorid = ?;\"\n",
        "\n",
        "        with self.conn:\n",
        "            self.conn.execute(query, params)\n",
        "\n",
        "    def delete_professor(self, professorid):\n",
        "        \"\"\"Delete: Remove a professor with confirmation.\"\"\"\n",
        "        cursor = self.conn.cursor()\n",
        "        cursor.execute(\"SELECT firstname, lastname FROM Professors WHERE professorid = ?;\", (professorid,))\n",
        "        professor = cursor.fetchone()\n",
        "\n",
        "        if professor:\n",
        "            firstname, lastname = professor\n",
        "            confirmation = input(f\"Are you sure you want to delete the professor '{firstname} {lastname}' (ID: {professorid})? (yes/no): \").strip().lower()\n",
        "            if confirmation == 'yes':\n",
        "                with self.conn:\n",
        "                    self.conn.execute(\"DELETE FROM Professors WHERE professorid = ?;\", (professorid,))\n",
        "                print(f\"Professor '{firstname} {lastname}' has been deleted.\")\n",
        "            else:\n",
        "                print(\"Deletion cancelled.\")\n",
        "        else:\n",
        "            print(f\"No professor found with ID: {professorid}\")\n",
        "\n",
        "    # --- CRUD for Departments ---\n",
        "    def add_department(self, departmentname, departmentcode):\n",
        "        \"\"\"Create: Add a new department.\"\"\"\n",
        "        with self.conn:\n",
        "            self.conn.execute(\"\"\"\n",
        "                INSERT INTO Departments (departmentname, departmentcode)\n",
        "                VALUES (?, ?);\n",
        "            \"\"\", (departmentname, departmentcode))\n",
        "\n",
        "    def get_departments(self):\n",
        "        \"\"\"Read: Retrieve all departments.\"\"\"\n",
        "        cursor = self.conn.cursor()\n",
        "        cursor.execute(\"SELECT * FROM Departments;\")\n",
        "        return cursor.fetchall()\n",
        "\n",
        "    def update_department(self, departmentid, departmentname=None, departmentcode=None):\n",
        "        \"\"\"Update: Modify a department's information.\"\"\"\n",
        "        updates = []\n",
        "        params = []\n",
        "\n",
        "        if departmentname:\n",
        "            updates.append(\"departmentname = ?\")\n",
        "            params.append(departmentname)\n",
        "        if departmentcode:\n",
        "            updates.append(\"departmentcode = ?\")\n",
        "            params.append(departmentcode)\n",
        "\n",
        "        params.append(departmentid)\n",
        "        query = f\"UPDATE Departments SET {', '.join(updates)} WHERE departmentid = ?;\"\n",
        "\n",
        "        with self.conn:\n",
        "            self.conn.execute(query, params)\n",
        "\n",
        "    def delete_department(self, departmentid):\n",
        "        \"\"\"Delete: Remove a department with confirmation.\"\"\"\n",
        "        cursor = self.conn.cursor()\n",
        "        cursor.execute(\"SELECT departmentname FROM Departments WHERE departmentid = ?;\", (departmentid,))\n",
        "        department = cursor.fetchone()\n",
        "\n",
        "        if department:\n",
        "            departmentname = department[0]\n",
        "            confirmation = input(f\"Are you sure you want to delete the department '{departmentname}' (ID: {departmentid})? (yes/no): \").strip().lower()\n",
        "            if confirmation == 'yes':\n",
        "                with self.conn:\n",
        "                    self.conn.execute(\"DELETE FROM Departments WHERE departmentid = ?;\", (departmentid,))\n",
        "                print(f\"Department '{departmentname}' has been deleted.\")\n",
        "            else:\n",
        "                print(\"Deletion cancelled.\")\n",
        "        else:\n",
        "            print(f\"No department found with ID: {departmentid}\")\n",
        "\n",
        "    # --- CRUD for Courses ---\n",
        "    def add_course(self, coursename, coursecode, departmentid):\n",
        "        \"\"\"Create: Add a new course.\"\"\"\n",
        "        with self.conn:\n",
        "            self.conn.execute(\"\"\"\n",
        "                INSERT INTO Courses (coursename, coursecode, departmentid)\n",
        "                VALUES (?, ?, ?);\n",
        "            \"\"\", (coursename, coursecode, departmentid))\n",
        "\n",
        "    def get_courses(self):\n",
        "        \"\"\"Read: Retrieve all courses.\"\"\"\n",
        "        cursor = self.conn.cursor()\n",
        "        cursor.execute(\"SELECT * FROM Courses;\")\n",
        "        return cursor.fetchall()\n",
        "\n",
        "    def update_course(self, courseid, coursename=None, coursecode=None, departmentid=None):\n",
        "        \"\"\"Update: Modify course information.\"\"\"\n",
        "        updates = []\n",
        "        params = []\n",
        "\n",
        "        if coursename:\n",
        "            updates.append(\"coursename = ?\")\n",
        "            params.append(coursename)\n",
        "        if coursecode:\n",
        "            updates.append(\"coursecode = ?\")\n",
        "            params.append(coursecode)\n",
        "        if departmentid:\n",
        "            updates.append(\"departmentid = ?\")\n",
        "            params.append(departmentid)\n",
        "\n",
        "        params.append(courseid)\n",
        "        query = f\"UPDATE Courses SET {', '.join(updates)} WHERE courseid = ?;\"\n",
        "\n",
        "        with self.conn:\n",
        "            self.conn.execute(query, params)\n",
        "\n",
        "    def delete_course(self, courseid):\n",
        "        \"\"\"Delete: Remove a course with confirmation.\"\"\"\n",
        "        cursor = self.conn.cursor()\n",
        "        cursor.execute(\"SELECT coursename FROM Courses WHERE courseid = ?;\", (courseid,))\n",
        "        course = cursor.fetchone()\n",
        "\n",
        "        if course:\n",
        "            coursename = course[0]\n",
        "            confirmation = input(f\"Are you sure you want to delete the course '{coursename}' (ID: {courseid})? (yes/no): \").strip().lower()\n",
        "            if confirmation == 'yes':\n",
        "                with self.conn:\n",
        "                    self.conn.execute(\"DELETE FROM Courses WHERE courseid = ?;\", (courseid,))\n",
        "                print(f\"Course '{coursename}' has been deleted.\")\n",
        "            else:\n",
        "                print(\"Deletion cancelled.\")\n",
        "        else:\n",
        "            print(f\"No course found with ID: {courseid}\")\n",
        "\n",
        "    # --- CRUD for Enrollments ---\n",
        "    def enroll_student(self, studentid, courseid, departmentid, professorid, schoolyear):\n",
        "        \"\"\"Create: Enroll a student in a course.\"\"\"\n",
        "        enrollment_date = date.today()\n",
        "        with self.conn:\n",
        "            self.conn.execute(\"\"\"\n",
        "                INSERT INTO Enrollments (studentid, courseid, departmentid, professorid, enrollmentdate, schoolyear)\n",
        "                VALUES (?, ?, ?, ?, ?, ?);\n",
        "            \"\"\", (studentid, courseid, departmentid, professorid, enrollment_date, schoolyear))\n",
        "\n",
        "    def get_enrollments(self):\n",
        "        \"\"\"Read: Retrieve all enrollments.\"\"\"\n",
        "        cursor = self.conn.cursor()\n",
        "        cursor.execute(\"\"\"\n",
        "            SELECT\n",
        "                Enrollments.enrollmentid,\n",
        "                Students.firstname || ' ' || Students.lastname AS student_name,\n",
        "                Courses.coursename,\n",
        "                Departments.departmentname,\n",
        "                Professors.firstname || ' ' || Professors.lastname AS professor_name,\n",
        "                Enrollments.enrollmentdate,\n",
        "                Enrollments.schoolyear\n",
        "            FROM Enrollments\n",
        "            INNER JOIN Students ON Enrollments.studentid = Students.studentid\n",
        "            INNER JOIN Courses ON Enrollments.courseid = Courses.courseid\n",
        "            INNER JOIN Departments ON Enrollments.departmentid = Departments.departmentid\n",
        "            INNER JOIN Professors ON Enrollments.professorid = Professors.professorid;\n",
        "        \"\"\")\n",
        "        return cursor.fetchall()\n",
        "\n",
        "    def delete_enrollment(self, enrollmentid):\n",
        "        \"\"\"Delete: Remove an enrollment with confirmation.\"\"\"\n",
        "        cursor = self.conn.cursor()\n",
        "        cursor.execute(\"SELECT enrollmentid FROM Enrollments WHERE enrollmentid = ?;\", (enrollmentid,))\n",
        "        enrollment = cursor.fetchone()\n",
        "\n",
        "        if enrollment:\n",
        "            confirmation = input(f\"Are you sure you want to delete the enrollment (ID: {enrollmentid})? (yes/no): \").strip().lower()\n",
        "            if confirmation == 'yes':\n",
        "                with self.conn:\n",
        "                    self.conn.execute(\"DELETE FROM Enrollments WHERE enrollmentid = ?;\", (enrollmentid,))\n",
        "                print(f\"Enrollment (ID: {enrollmentid}) has been deleted.\")\n",
        "            else:\n",
        "                print(\"Deletion cancelled.\")\n",
        "        else:\n",
        "            print(f\"No enrollment found with ID: {enrollmentid}\")\n",
        "\n",
        "    # --- Cleanup --- (I occasionally run into threading issues.)\n",
        "    def __del__(self):\n",
        "        \"\"\"Close the database connection.\"\"\"\n",
        "        if self.conn:\n",
        "            self.conn.close()\n"
      ],
      "metadata": {
        "id": "UwugL_1nj_XC"
      },
      "execution_count": 50,
      "outputs": []
    },
    {
      "cell_type": "code",
      "source": [
        "# Initialize the system\n",
        "system = EnrollmentSystem2()\n"
      ],
      "metadata": {
        "id": "Cky6TELmRM7p"
      },
      "execution_count": 120,
      "outputs": []
    },
    {
      "cell_type": "code",
      "source": [
        "# Close the System\n",
        "system.close()\n"
      ],
      "metadata": {
        "id": "b-yr-s8Km9L6"
      },
      "execution_count": 119,
      "outputs": []
    },
    {
      "cell_type": "markdown",
      "source": [
        "CRUD Demonstration Departments"
      ],
      "metadata": {
        "id": "jxSIyCyLODSi"
      }
    },
    {
      "cell_type": "code",
      "source": [
        "# Add a Department\n",
        "system.add_department(departmentname=\"Information Technology\", departmentcode=\"IT\")\n"
      ],
      "metadata": {
        "id": "LDYe9zXfmU0X"
      },
      "execution_count": 121,
      "outputs": []
    },
    {
      "cell_type": "code",
      "source": [
        "# Retrieve Departments\n",
        "departments = system.get_departments()\n",
        "for department in departments:\n",
        "    print(department)\n"
      ],
      "metadata": {
        "id": "9KszI2komVTY"
      },
      "execution_count": 97,
      "outputs": []
    },
    {
      "cell_type": "code",
      "source": [
        "# Update a Department\n",
        "system.update_department(departmentid=1, departmentname=\"Marketing\", departmentcode=\"MKTG\")\n"
      ],
      "metadata": {
        "id": "levIiK17mVxt"
      },
      "execution_count": 94,
      "outputs": []
    },
    {
      "cell_type": "code",
      "source": [
        "# Delete a Department\n",
        "system.delete_department(departmentid=1)\n"
      ],
      "metadata": {
        "id": "LEv8A45zmWRs",
        "colab": {
          "base_uri": "https://localhost:8080/"
        },
        "outputId": "35c6a810-0173-4dd5-a286-56ef0820a817"
      },
      "execution_count": 96,
      "outputs": [
        {
          "output_type": "stream",
          "name": "stdout",
          "text": [
            "Are you sure you want to delete the department 'Marketing' (ID: 1)? (yes/no): yes\n",
            "Department 'Marketing' has been deleted.\n"
          ]
        }
      ]
    },
    {
      "cell_type": "markdown",
      "source": [
        "CRUD Demonstration Professors"
      ],
      "metadata": {
        "id": "GbqfuDy7OTrr"
      }
    },
    {
      "cell_type": "code",
      "source": [
        "# Add a Professor\n",
        "system.add_professor(firstname=\"Juan\", lastname=\"Delacruz\", email=\"juan.delacruz@tip.edu.ph\", phone=\"987-654-3210\")\n"
      ],
      "metadata": {
        "id": "QVwSDthXmTdD"
      },
      "execution_count": 122,
      "outputs": []
    },
    {
      "cell_type": "code",
      "source": [
        "# Retrieve Professors\n",
        "professors = system.get_professors()\n",
        "for professor in professors:\n",
        "    print(professor)\n"
      ],
      "metadata": {
        "id": "S9MBRrq6mTuY"
      },
      "execution_count": 104,
      "outputs": []
    },
    {
      "cell_type": "code",
      "source": [
        "# Update a Professor\n",
        "system.update_professor(professorid=1, lastname=\"Marquez\", email=\"juan.marquez@tip.edu.ph\", phone=\"111-222-3333\")\n"
      ],
      "metadata": {
        "id": "z2TpnltFmUCY"
      },
      "execution_count": 100,
      "outputs": []
    },
    {
      "cell_type": "code",
      "source": [
        "# Delete a Professor\n",
        "system.delete_professor(professorid=1)\n"
      ],
      "metadata": {
        "colab": {
          "base_uri": "https://localhost:8080/"
        },
        "id": "praqaPYfmUhn",
        "outputId": "b943998d-70b5-4042-d307-298fa43dafc4"
      },
      "execution_count": 103,
      "outputs": [
        {
          "output_type": "stream",
          "name": "stdout",
          "text": [
            "Are you sure you want to delete the professor 'Juan Marquez' (ID: 1)? (yes/no): yes\n",
            "Professor 'Juan Marquez' has been deleted.\n"
          ]
        }
      ]
    },
    {
      "cell_type": "markdown",
      "source": [
        "CRUD Demonstration Courses"
      ],
      "metadata": {
        "id": "OIB6JZFBOz-X"
      }
    },
    {
      "cell_type": "code",
      "source": [
        "# Add a Course\n",
        "system.add_course(coursename=\"Data Structures\", coursecode=\"CS101\", departmentid=1)\n"
      ],
      "metadata": {
        "id": "zOB9HOdYmWvp"
      },
      "execution_count": 123,
      "outputs": []
    },
    {
      "cell_type": "code",
      "source": [
        "# Retrieve Courses\n",
        "courses = system.get_courses()\n",
        "for course in courses:\n",
        "    print(course)\n"
      ],
      "metadata": {
        "id": "M5xdDuU_mXI6"
      },
      "execution_count": 110,
      "outputs": []
    },
    {
      "cell_type": "code",
      "source": [
        "# Update a Course\n",
        "system.update_course(courseid=1, coursename=\"Advanced Data Structures\")\n"
      ],
      "metadata": {
        "id": "lILgU-8fmXgv"
      },
      "execution_count": 107,
      "outputs": []
    },
    {
      "cell_type": "code",
      "source": [
        "# Delete a Course\n",
        "system.delete_course(courseid=1)\n"
      ],
      "metadata": {
        "colab": {
          "base_uri": "https://localhost:8080/"
        },
        "id": "_GuM6amCm1W7",
        "outputId": "999e4b31-c162-4901-aa5d-a014d9440321"
      },
      "execution_count": 109,
      "outputs": [
        {
          "output_type": "stream",
          "name": "stdout",
          "text": [
            "Are you sure you want to delete the course 'Advanced Data Structures' (ID: 1)? (yes/no): yes\n",
            "Course 'Advanced Data Structures' has been deleted.\n"
          ]
        }
      ]
    },
    {
      "cell_type": "markdown",
      "source": [
        "CRUD Demonstration Students"
      ],
      "metadata": {
        "id": "xRiUvh6_O956"
      }
    },
    {
      "cell_type": "code",
      "source": [
        "# Add a student\n",
        "system.add_student(firstname=\"John\", lastname=\"Doe\", email=\"john.doe@yahoo.com\", phone=\"123-456-7890\", departmentid=1)\n"
      ],
      "metadata": {
        "id": "BHW9o189mMBe"
      },
      "execution_count": 124,
      "outputs": []
    },
    {
      "cell_type": "code",
      "source": [
        "# Retrieve Students\n",
        "students = system.get_students()\n",
        "for student in students:\n",
        "    print(student)\n"
      ],
      "metadata": {
        "id": "Si3QJBVfmSXr"
      },
      "execution_count": 116,
      "outputs": []
    },
    {
      "cell_type": "code",
      "source": [
        "# Update a Student\n",
        "system.update_student(studentid=1, firstname=\"Jonathan\", email=\"jon.doe@yahoo.com\")\n"
      ],
      "metadata": {
        "id": "jKev1AA2mSo1"
      },
      "execution_count": 113,
      "outputs": []
    },
    {
      "cell_type": "code",
      "source": [
        "# Delete a Student\n",
        "system.delete_student(studentid=1)\n"
      ],
      "metadata": {
        "colab": {
          "base_uri": "https://localhost:8080/"
        },
        "id": "u_f7ZMrTmTC_",
        "outputId": "8a24b4ef-466e-4d3c-9489-71c5c742d53a"
      },
      "execution_count": 115,
      "outputs": [
        {
          "output_type": "stream",
          "name": "stdout",
          "text": [
            "Are you sure you want to delete the student 'Jonathan Doe' (ID: 1)? (yes/no): yes\n",
            "Student 'Jonathan Doe' has been deleted.\n"
          ]
        }
      ]
    },
    {
      "cell_type": "markdown",
      "source": [
        "CRUD Demonstration Enrollments"
      ],
      "metadata": {
        "id": "LV_asqF0POsM"
      }
    },
    {
      "cell_type": "code",
      "source": [
        "# Enroll a Student\n",
        "system.enroll_student(studentid=1, courseid=1, departmentid=1, professorid=1, schoolyear=\"2024-2025\")\n"
      ],
      "metadata": {
        "id": "w2ML8CzJm1PQ"
      },
      "execution_count": 125,
      "outputs": []
    },
    {
      "cell_type": "code",
      "source": [
        "# Retrieve Enrollments\n",
        "enrollments = system.get_enrollments()\n",
        "for enrollment in enrollments:\n",
        "    print(enrollment)\n"
      ],
      "metadata": {
        "id": "wp7uunrTm1Eu"
      },
      "execution_count": 128,
      "outputs": []
    },
    {
      "cell_type": "code",
      "source": [
        "# Delete an Enrollment\n",
        "system.delete_enrollment(enrollmentid=1)\n"
      ],
      "metadata": {
        "colab": {
          "base_uri": "https://localhost:8080/"
        },
        "id": "uNniTcwim02T",
        "outputId": "be5a9bc2-5060-49b2-85ee-73ab7ad32cf9"
      },
      "execution_count": 127,
      "outputs": [
        {
          "output_type": "stream",
          "name": "stdout",
          "text": [
            "Are you sure you want to delete the enrollment (ID: 1)? (yes/no): yes\n",
            "Enrollment (ID: 1) has been deleted.\n"
          ]
        }
      ]
    }
  ]
}