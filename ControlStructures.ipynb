{
 "cells": [
  {
   "cell_type": "markdown",
   "id": "bbd98058-cf98-4341-8f4a-b8ac2c76ad42",
   "metadata": {},
   "source": [
    "# Control Structures in Python"
   ]
  },
  {
   "cell_type": "markdown",
   "id": "5be48782-e763-4836-a7aa-77cbf1d7ab1f",
   "metadata": {
    "tags": []
   },
   "source": [
    "## Conditional Statements\n",
    "\n",
    "Conditional statements provide the ability to check conditions and control the program execution accordingly. The simplest form of conditional statement is the if statement.\n",
    "\n"
   ]
  },
  {
   "cell_type": "code",
   "execution_count": 45,
   "id": "ab6efdf9-c706-4c9b-8e13-7084e946b7d1",
   "metadata": {
    "tags": []
   },
   "outputs": [
    {
     "name": "stdout",
     "output_type": "stream",
     "text": [
      "x is positive\n",
      "outside if statement\n"
     ]
    }
   ],
   "source": [
    "# Example 1\n",
    "# Simple if statement\n",
    "x = 5\n",
    "\n",
    "if x > 0:\n",
    "    print('x is positive')\n",
    "    \n",
    "print(\"outside if statement\")"
   ]
  },
  {
   "cell_type": "code",
   "execution_count": 49,
   "id": "57ec35fe-35d2-4aa9-8e09-2a611dd1f202",
   "metadata": {
    "tags": []
   },
   "outputs": [
    {
     "name": "stdin",
     "output_type": "stream",
     "text": [
      "Enter a number:  2\n"
     ]
    },
    {
     "name": "stdout",
     "output_type": "stream",
     "text": [
      "2  is even.\n",
      "outside of if statement\n"
     ]
    }
   ],
   "source": [
    "# Example 2\n",
    "# if-else statement\n",
    "n = int(input(\"Enter a number: \"))\n",
    "\n",
    "if n%2 == 0:\n",
    "    print(n, \" is even.\")\n",
    "else:\n",
    "    print(n, \" is odd.\")\n",
    "    \n",
    "print(\"outside of if statement\")"
   ]
  },
  {
   "cell_type": "code",
   "execution_count": 50,
   "id": "009131c8-d708-4d47-a89a-5e6c3a5ddc6c",
   "metadata": {
    "tags": []
   },
   "outputs": [
    {
     "name": "stdin",
     "output_type": "stream",
     "text": [
      "Input first number:  2\n",
      "Input second number:  2\n"
     ]
    },
    {
     "name": "stdout",
     "output_type": "stream",
     "text": [
      "2 and 2 are equal.\n"
     ]
    }
   ],
   "source": [
    "# Example 3\n",
    "# Chained Conditionals\n",
    "\n",
    "n1 = int(input(\"Input first number: \"))\n",
    "n2 = int(input(\"Input second number: \"))\n",
    "\n",
    "if n1 > n2:\n",
    "    print(n1, \"is greater than.\", n2)\n",
    "elif n2 > n1:\n",
    "    print(n2, \"is greater than.\", n1)\n",
    "else:\n",
    "    print(n1, \"and\", n2, \"are equal.\")"
   ]
  },
  {
   "cell_type": "code",
   "execution_count": 51,
   "id": "60fb6c4c-74e3-46cf-bde2-c935007e16a2",
   "metadata": {
    "tags": []
   },
   "outputs": [
    {
     "name": "stdin",
     "output_type": "stream",
     "text": [
      "Enter the value of a:  9\n",
      "Enter the value of b:  1\n",
      "Enter the value of c:  8\n"
     ]
    },
    {
     "name": "stdout",
     "output_type": "stream",
     "text": [
      "The greatest value is 9\n"
     ]
    }
   ],
   "source": [
    "# nested conditions\n",
    "\n",
    "a = int(input(\"Enter the value of a: \"))\n",
    "b = int(input(\"Enter the value of b: \"))\n",
    "c = int(input(\"Enter the value of c: \"))\n",
    "\n",
    "if (a>b):\n",
    "    if (a>c):\n",
    "        print(\"The greatest value is\", a)\n",
    "    else:\n",
    "        print(\"The greatest value is\", c)\n",
    "else:\n",
    "    if(b>c):\n",
    "        print(\"The greatest value is\", b)\n",
    "    else:\n",
    "        print(\"The greatest value is\", c)"
   ]
  },
  {
   "cell_type": "markdown",
   "id": "f8e55c92-e733-4d6a-a6bd-ba8ceed5dccf",
   "metadata": {
    "tags": []
   },
   "source": [
    "## Iteration / Control Statements"
   ]
  },
  {
   "cell_type": "markdown",
   "id": "2499e075-3e7f-40f0-86c6-181f65c4b5d9",
   "metadata": {
    "tags": []
   },
   "source": [
    "These are repetitive program codes, the computers have to\n",
    "perform to complete tasks."
   ]
  },
  {
   "cell_type": "code",
   "execution_count": null,
   "id": "d700341b-13c4-4ab2-8922-787dbbefe93f",
   "metadata": {},
   "outputs": [],
   "source": [
    "print(1)\n",
    "print(2)\n",
    "print(3)\n",
    "print(4)\n",
    "print(5)\n",
    "\n",
    "for(iterator; condition; inc/dec){\n",
    "    \n",
    "}\n",
    "\n",
    "for(int i = 0; i <= 5; i++){\n",
    "    std::cout << i;\n",
    "}"
   ]
  },
  {
   "cell_type": "code",
   "execution_count": 27,
   "id": "c8f686d0-ee81-49a5-ac49-79d30fb5a708",
   "metadata": {
    "tags": []
   },
   "outputs": [
    {
     "name": "stdout",
     "output_type": "stream",
     "text": [
      "0\n",
      "1\n",
      "2\n",
      "3\n",
      "4\n"
     ]
    }
   ],
   "source": [
    "# while loop\n",
    "count = 0\n",
    "while count < 5:\n",
    "    print(count)\n",
    "    count += 1"
   ]
  },
  {
   "cell_type": "code",
   "execution_count": 62,
   "id": "d5636c91-0c2f-4ca4-a003-fc6aaca0cb21",
   "metadata": {
    "tags": []
   },
   "outputs": [
    {
     "name": "stdout",
     "output_type": "stream",
     "text": [
      "Roman\n",
      "Marcos\n",
      "Richard\n"
     ]
    }
   ],
   "source": [
    "# for loop\n",
    "\n",
    "# start with a dictionary\n",
    "students = {'1':'Roman', '2':'Marcos', '3':'Richard'}\n",
    "\n",
    "# iterate over and print\n",
    "for i in students:\n",
    "    print(students[i])"
   ]
  },
  {
   "cell_type": "code",
   "execution_count": 65,
   "id": "245032cb-ba46-4df3-8d80-8bc5ef7be821",
   "metadata": {
    "tags": []
   },
   "outputs": [
    {
     "name": "stdout",
     "output_type": "stream",
     "text": [
      "Roman\n",
      "Marcos\n",
      "Richard\n"
     ]
    }
   ],
   "source": [
    "# iterate over and print but with a while loop\n",
    "i = 1\n",
    "while i <= len(students.keys()): # iterator is less than number of keys\n",
    "    print(students[str(i)])\n",
    "    i += 1"
   ]
  },
  {
   "cell_type": "markdown",
   "id": "3963c949-fc39-4ebf-969b-4716fba0568e",
   "metadata": {
    "tags": []
   },
   "source": [
    "## Loop Control Statements\n",
    "These are repetitive program codes, the computers have to\n",
    "perform to complete tasks."
   ]
  },
  {
   "cell_type": "code",
   "execution_count": 37,
   "id": "4058d97e-3791-4e8f-b27c-798863982fe9",
   "metadata": {
    "tags": []
   },
   "outputs": [
    {
     "data": {
      "text/plain": [
       "[1, 2, 3, 4, 5, 6, 7, 8, 9, 10, 11, 12, 13, 14, 15, 16, 17, 18, 19]"
      ]
     },
     "execution_count": 37,
     "metadata": {},
     "output_type": "execute_result"
    }
   ],
   "source": [
    "# Start with an initial list\n",
    "list2 = list(range(1, 20))\n",
    "list2"
   ]
  },
  {
   "cell_type": "code",
   "execution_count": null,
   "id": "6d7ff17e-660a-4600-b511-cf7b864a24ce",
   "metadata": {
    "tags": []
   },
   "outputs": [],
   "source": [
    "# Break Statement\n",
    "\n",
    "for i in list2:\n",
    "    if i==10:\n",
    "        # print(i)\n",
    "        break\n",
    "    else:\n",
    "        print(i)"
   ]
  },
  {
   "cell_type": "code",
   "execution_count": 68,
   "id": "1a5f4400-ad64-4f13-9d68-1da0703e96a9",
   "metadata": {
    "tags": []
   },
   "outputs": [
    {
     "name": "stdout",
     "output_type": "stream",
     "text": [
      "1\n",
      "2\n",
      "3\n",
      "4\n",
      "5\n",
      "6\n",
      "7\n",
      "8\n",
      "9\n"
     ]
    }
   ],
   "source": [
    "index = 0\n",
    "while index < len(list2):\n",
    "    i = list2[index]\n",
    "    if i == 10:\n",
    "        break\n",
    "    else:\n",
    "        print(i)\n",
    "        index += 1"
   ]
  },
  {
   "cell_type": "code",
   "execution_count": 72,
   "id": "1d0e0f89-69a0-4c58-a965-42deff978dcd",
   "metadata": {
    "tags": []
   },
   "outputs": [
    {
     "name": "stdout",
     "output_type": "stream",
     "text": [
      "1\n",
      "3\n",
      "5\n",
      "7\n",
      "9\n",
      "11\n",
      "13\n",
      "15\n",
      "17\n",
      "19\n"
     ]
    }
   ],
   "source": [
    "# Continue\n",
    "\n",
    "for i in list2:\n",
    "    if i%2 == 0:\n",
    "        continue\n",
    "    else:\n",
    "        print(i)"
   ]
  },
  {
   "cell_type": "code",
   "execution_count": 82,
   "id": "6d467974-76f6-459d-a57a-d84810264273",
   "metadata": {
    "tags": []
   },
   "outputs": [
    {
     "name": "stdout",
     "output_type": "stream",
     "text": [
      "1\n",
      "3\n",
      "5\n",
      "7\n",
      "9\n",
      "11\n",
      "13\n",
      "15\n",
      "17\n",
      "19\n"
     ]
    }
   ],
   "source": [
    "index = 0\n",
    "while index < len(list2):\n",
    "    i = list2[index]\n",
    "    if i%2 == 0:\n",
    "        index += 1\n",
    "        continue\n",
    "    else:\n",
    "        print(i)\n",
    "    index += 1"
   ]
  },
  {
   "cell_type": "code",
   "execution_count": 41,
   "id": "803abcfc-bca7-43fa-8617-516e98b582f6",
   "metadata": {
    "tags": []
   },
   "outputs": [
    {
     "name": "stdout",
     "output_type": "stream",
     "text": [
      "1\n",
      "3\n",
      "5\n",
      "7\n",
      "9\n",
      "11\n",
      "13\n",
      "15\n",
      "17\n",
      "19\n"
     ]
    }
   ],
   "source": [
    "# Pass\n",
    "\n",
    "for i in list2:\n",
    "    if i%2 == 0:\n",
    "        pass\n",
    "    else:\n",
    "        print(i)"
   ]
  },
  {
   "cell_type": "markdown",
   "id": "94e92368-f12b-4d5a-9ad9-24f56383b732",
   "metadata": {
    "tags": []
   },
   "source": [
    "## Fruitful Functions\n",
    "\n",
    "Fruitful functions are functions that return value. While using fruitful function, the return value must be handled properly by assigning it to a variable or use it as part of the expression."
   ]
  },
  {
   "cell_type": "code",
   "execution_count": 87,
   "id": "ddd9f2a3-caa9-43bd-b2a7-31039bb335cf",
   "metadata": {
    "tags": []
   },
   "outputs": [
    {
     "name": "stdout",
     "output_type": "stream",
     "text": [
      "[0, 1, 2, 3, 4, 5]\n"
     ]
    }
   ],
   "source": [
    "# Function w/ parameters\n",
    "# Count from 0 -> n (inclusive & user-provided)\n",
    "\n",
    "def countToN(n):\n",
    "    returnList = []\n",
    "    for i in range(n+1):\n",
    "        returnList.append(i)\n",
    "    \n",
    "    return returnList\n",
    "        \n",
    "variable1 = countToN(5)\n",
    "print(variable1)"
   ]
  },
  {
   "cell_type": "code",
   "execution_count": 88,
   "id": "137dddc5-69b5-4459-8090-6fa530199710",
   "metadata": {
    "tags": []
   },
   "outputs": [
    {
     "name": "stdin",
     "output_type": "stream",
     "text": [
      "Enter number to count to:  8\n"
     ]
    },
    {
     "name": "stdout",
     "output_type": "stream",
     "text": [
      "[0, 1, 2, 3, 4, 5, 6, 7, 8]\n"
     ]
    }
   ],
   "source": [
    "# Function w/o parameters\n",
    "\n",
    "def countToN():\n",
    "    n = int(input(\"Enter number to count to: \"))\n",
    "    returnList = []\n",
    "    for i in range(n+1):\n",
    "        returnList.append(i)\n",
    "        \n",
    "    \"\"\"\n",
    "    int i;\n",
    "    for(i = 0; i < len(list); i++){\n",
    "    }\n",
    "    std::cout << i;\n",
    "    \"\"\"\n",
    "    \n",
    "    return returnList\n",
    "        \n",
    "variable1 = countToN()\n",
    "print(variable1)"
   ]
  },
  {
   "cell_type": "code",
   "execution_count": null,
   "id": "606d622b-bfc0-4889-90e1-d383e7653201",
   "metadata": {},
   "outputs": [],
   "source": []
  },
  {
   "cell_type": "code",
   "execution_count": null,
   "id": "669e4b4e-7b64-46a1-a343-0f3d73895b0a",
   "metadata": {},
   "outputs": [],
   "source": []
  },
  {
   "cell_type": "markdown",
   "id": "29fd8418-df49-42d8-9eb9-9430af46a1b4",
   "metadata": {
    "tags": []
   },
   "source": [
    "## Local and Global Scope"
   ]
  },
  {
   "cell_type": "code",
   "execution_count": 43,
   "id": "8b3051a2-268a-44e9-83ac-98270ce7daf2",
   "metadata": {
    "tags": []
   },
   "outputs": [
    {
     "name": "stdout",
     "output_type": "stream",
     "text": [
      "-10\n"
     ]
    },
    {
     "ename": "NameError",
     "evalue": "name 'local_x' is not defined",
     "output_type": "error",
     "traceback": [
      "\u001b[1;31m---------------------------------------------------------------------------\u001b[0m",
      "\u001b[1;31mNameError\u001b[0m                                 Traceback (most recent call last)",
      "Cell \u001b[1;32mIn[43], line 10\u001b[0m\n\u001b[0;32m      7\u001b[0m     \u001b[38;5;28mprint\u001b[39m(y)\n\u001b[0;32m      9\u001b[0m sub()\n\u001b[1;32m---> 10\u001b[0m \u001b[38;5;28mprint\u001b[39m(\u001b[43mlocal_x\u001b[49m)\n",
      "\u001b[1;31mNameError\u001b[0m: name 'local_x' is not defined"
     ]
    }
   ],
   "source": [
    "a = 50\n",
    "b = 40\n",
    "\n",
    "def sub():\n",
    "    local_x = 30\n",
    "    y = local_x-b\n",
    "    print(y)\n",
    "    \n",
    "sub()\n",
    "print(local_x)"
   ]
  },
  {
   "cell_type": "markdown",
   "id": "8ac78d1a-7742-480e-a20e-e0b762bce0eb",
   "metadata": {},
   "source": [
    "Note: local value will be taken inside the function, and global value will be taken\n",
    "outside the function."
   ]
  },
  {
   "cell_type": "markdown",
   "id": "2a4d47cd-2801-4e6c-aec2-761532c794a9",
   "metadata": {
    "tags": []
   },
   "source": [
    "## Recursion\n",
    "\n",
    "Recursion is a way of programming in which a function calls itself again and again until a condition is true. A recursive function calls itself and has a termination condition."
   ]
  },
  {
   "cell_type": "code",
   "execution_count": 89,
   "id": "e02f0998-f27c-4dee-9f6e-705861023161",
   "metadata": {
    "tags": []
   },
   "outputs": [
    {
     "data": {
      "text/plain": [
       "6"
      ]
     },
     "execution_count": 89,
     "metadata": {},
     "output_type": "execute_result"
    }
   ],
   "source": [
    "# Factorial\n",
    "\n",
    "# n! = n * (n-1)!\n",
    "# factorial(n) = n * factorial(n-1)\n",
    "\n",
    "# 3! = 3 * (3-1)!\n",
    "# 2! = 2 * (2-1)!\n",
    "# 1! = 1 * (1-1)!\n",
    "# 0! = 1\n",
    "\n",
    "def factorial(n):\n",
    "    # The base case / termination condition\n",
    "    if n == 0:\n",
    "        return 1\n",
    "    else:\n",
    "        return n * factorial(n-1)"
   ]
  }
 ],
 "metadata": {
  "kernelspec": {
   "display_name": "Python 3 (ipykernel)",
   "language": "python",
   "name": "python3"
  },
  "language_info": {
   "codemirror_mode": {
    "name": "ipython",
    "version": 3
   },
   "file_extension": ".py",
   "mimetype": "text/x-python",
   "name": "python",
   "nbconvert_exporter": "python",
   "pygments_lexer": "ipython3",
   "version": "3.12.4"
  }
 },
 "nbformat": 4,
 "nbformat_minor": 5
}
