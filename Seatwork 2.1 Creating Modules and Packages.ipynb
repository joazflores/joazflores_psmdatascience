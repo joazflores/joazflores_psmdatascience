{
 "cells": [
  {
   "cell_type": "code",
   "execution_count": null,
   "id": "4524aefa-e08b-4b21-abeb-1882bc4bb620",
   "metadata": {},
   "outputs": [],
   "source": [
    "#STUDENT NAME: Joaz Ephraim A. Flores"
   ]
  },
  {
   "cell_type": "code",
   "execution_count": 26,
   "id": "96663c6b-f725-415f-b4ba-157d247db33f",
   "metadata": {},
   "outputs": [
    {
     "name": "stdout",
     "output_type": "stream",
     "text": [
      "Propositional Logic Evaluator for Discrete Math\n"
     ]
    },
    {
     "name": "stdin",
     "output_type": "stream",
     "text": [
      "How many variables? 2\n",
      "Enter the propositional logic expression:  not(A and B) or (A and B)\n"
     ]
    },
    {
     "name": "stdout",
     "output_type": "stream",
     "text": [
      "A B f\n",
      "0 0 True\n",
      "0 1 True\n",
      "1 0 True\n",
      "1 1 1\n"
     ]
    }
   ],
   "source": [
    "#EXPLORING BUILT IN FUNCTIONS\n",
    "#evaluator.py\n",
    "\n",
    "\"\"\"\n",
    "# Propositional Logic evaluator for discrete moth for 2-3 variables\n",
    "print(\"Propositional Logic Evaluator for Discrete Math\")\n",
    "variables = int(input(\"How many variables?\"))\n",
    "total_combinations = 2 ** variables\n",
    "\n",
    "combinations_list = []\n",
    "\n",
    "#Generate the combinations\n",
    "for i in range(total_combinations):\n",
    "    bin_equivalent = bin(i)[2:]\n",
    "    while len(bin_equivalent)<variables:\n",
    "        bin_equivalent = \"0\"+bin_equivalent\n",
    "    combinations_list.append(tuple(int(val) for val in bin_equivalent))\n",
    "    # This will generate a list with values [(0,0),(0,1),(1,0),(1,1)]\n",
    "    # For two variables\n",
    "\n",
    "# Main Program\n",
    "expression = input(\"Enter the propositional logic expression: \")\n",
    "\n",
    "\"\"\" Note:\n",
    "        Only the letters A, B, and C are allowed to be used.\n",
    "        A sample input would be: note (A and B) or (A and C).\n",
    "        All input must be small cases.\"\"\"\n",
    "\n",
    "if variables == 2:\n",
    "    print(\"A B f\")\n",
    "    for A, B in combinations_list:\n",
    "        evaluated_expression = eval(expression)\n",
    "        print(A, B, evaluated_expression)\n",
    "elif variables == 3:\n",
    "    print(\"A B C f\")\n",
    "    for A, B, C in combinations_list:\n",
    "        evaluated_expression = eval(expression)\n",
    "        print (A, B, C, evaluated_expression)\n",
    "\"\"\""
   ]
  },
  {
   "cell_type": "code",
   "execution_count": 28,
   "id": "b9612ad7-95d4-4e00-a064-750a027479b1",
   "metadata": {},
   "outputs": [],
   "source": [
    "#USING THE OPEN() FUNCTION FOR FILE HANDLING\n",
    "#filewriter.py\n",
    "\n",
    "\"\"\"\n",
    "name = \"Joaz Flores\" # modify by writing your name here.\n",
    "file = open(\"newfile1.txt\", 'w')\n",
    "file.write(f\"Hello, {name}!\\n\")\n",
    "file.write(\"Isn't this amazing?\\n\")\n",
    "file.write(\"that we can create and write on text files\\n\")\n",
    "file.write(\"using Python.\")\n",
    "file.close()\n",
    "\n",
    "#Code creates a \"newfile1\" with a text inside.\n",
    "\"\"\""
   ]
  },
  {
   "cell_type": "code",
   "execution_count": 20,
   "id": "5615b6d3-acbe-4e9a-b09d-eaab780cd29c",
   "metadata": {},
   "outputs": [
    {
     "name": "stdout",
     "output_type": "stream",
     "text": [
      "Hello, Joaz Flores!\n",
      "Isn't this amazing?\n",
      "that we can create and write on text files\n",
      "using Python.\n"
     ]
    }
   ],
   "source": [
    "#filereader.py\n",
    "\n",
    "\"\"\"\n",
    "file = open(\"newfile1.txt\", 'r')\n",
    "data = file.read()\n",
    "print(data)\n",
    "file.close()\n",
    "\n",
    "#error was the file name should be \"newfile1.txt\"\n",
    "\"\"\""
   ]
  },
  {
   "cell_type": "code",
   "execution_count": 22,
   "id": "f6d2dc2d-8963-4cc3-a740-3a2f3754ffff",
   "metadata": {},
   "outputs": [
    {
     "name": "stdout",
     "output_type": "stream",
     "text": [
      "Hello, Joaz \n"
     ]
    }
   ],
   "source": [
    "#filereader.py Part 2\n",
    "\n",
    "\"\"\"\n",
    "file = open(\"newfile1.txt\", 'r')\n",
    "data = file.read(12)\n",
    "print(data)\n",
    "file.close()\n",
    "\"\"\""
   ]
  },
  {
   "cell_type": "code",
   "execution_count": 30,
   "id": "b8d42372-6291-4559-acb5-4e5c0055f99e",
   "metadata": {},
   "outputs": [],
   "source": [
    "##fileappender.py\n",
    "\n",
    "\"\"\"\n",
    "file = open(\"newfile2.txt\", 'a')\n",
    "file.write(\"and also by the programmer, of course.\")\n",
    "file.close()\n",
    "\n",
    "#Code creates a \"newfile2\" with a text inside.\n",
    "\"\"\""
   ]
  },
  {
   "cell_type": "code",
   "execution_count": 34,
   "id": "52b338a4-0449-4b08-ab54-7e32a71f4b0d",
   "metadata": {},
   "outputs": [
    {
     "name": "stdout",
     "output_type": "stream",
     "text": [
      "[(0, 0), (0, 1), (1, 0), (1, 1), (0, 0, 0), (0, 0, 1), (0, 1, 0), (0, 1, 1), (1, 0, 0), (1, 0, 1), (1, 1, 0), (1, 1, 1)]\n"
     ]
    }
   ],
   "source": [
    "#truthtabelgenerator.py\n",
    "\n",
    "\"\"\"\n",
    "def generate_truthable(number_of_variables):\n",
    "    total_combinations = 2 ** number_of_variables\n",
    "    comabinations_list = []\n",
    "\n",
    "    for i in range(total_combinations):\n",
    "        bin_equivalent = bin(i)[2:]\n",
    "        while len(bin_equivalent) < number_of_variables:\n",
    "            bin_equivalent = \"0\"+bin_equivalent\n",
    "        combinations_list.append(tuple(int(val) for val in bin_equivalent))\n",
    "    return combinations_list\n",
    "print(generate_truthable(3))\n",
    "\"\"\""
   ]
  },
  {
   "cell_type": "code",
   "execution_count": 38,
   "id": "67dfa839-9996-497a-841b-70e87ada6f73",
   "metadata": {},
   "outputs": [
    {
     "name": "stdout",
     "output_type": "stream",
     "text": [
      "You need to enter an interger\n"
     ]
    }
   ],
   "source": [
    "#truthtabelgenerator.py Part 2\n",
    "\n",
    "\"\"\"\n",
    "def generate_truthable(number_of_variables=0):\n",
    "    if number_of_variables == 0:\n",
    "        return \"You need to enter an interger\"\n",
    "    else:\n",
    "        total_combinations = 2 ** number_of_variables\n",
    "        comabinations_list = []\n",
    "\n",
    "        for i in range(total_combinations):\n",
    "            bin_equivalent = bin(i)[2:]\n",
    "            while len(bin_equivalent) < number_of_variables:\n",
    "                bin_equivalent = \"0\"+bin_equivalent\n",
    "            combinations_list.append(tuple(int(val) for val in bin_equivalent))\n",
    "        return combinations_list\n",
    "print(generate_truthable())\n",
    "\"\"\""
   ]
  },
  {
   "cell_type": "code",
   "execution_count": 44,
   "id": "6a65ef0a-ff40-47d1-a3f4-395985c480ab",
   "metadata": {},
   "outputs": [
    {
     "name": "stdout",
     "output_type": "stream",
     "text": [
      "((-1+1j), (-1-1j))\n"
     ]
    }
   ],
   "source": [
    "#MATH MODULE\n",
    "#mathmodule.py\n",
    "\n",
    "\"\"\"\n",
    "import math\n",
    "\n",
    "def quadratic_formula(a, b, c):\n",
    "    if b**2 - (4*a*c) < 0:\n",
    "        x1 = (complex(-b, math.floor(math.sqrt(abs(b**2-(4*a*c))))))/2*a\n",
    "        x2 = (complex(-b, -1*math.floor(math.sqrt(abs(b**2-(4*a*c))))))/2*a\n",
    "        return x1, x2\n",
    "    else:\n",
    "        x1 = (-b+math.sqrt(b**2 - (4*a*c)))/(2*a)\n",
    "        x2 = (-b-math.sqrt(b**2 - (4*a*c)))/(2*a)\n",
    "        return x1, x2\n",
    "print(quadratic_formula(1, 2, 3))\n",
    "\"\"\""
   ]
  },
  {
   "cell_type": "code",
   "execution_count": 48,
   "id": "54097bfe-f86b-45b5-987f-9755e4fec25c",
   "metadata": {},
   "outputs": [
    {
     "name": "stdout",
     "output_type": "stream",
     "text": [
      "1.0\n",
      "1.0\n"
     ]
    }
   ],
   "source": [
    "#mathmodule2.py\n",
    "\n",
    "\"\"\"\n",
    "import math\n",
    "\n",
    "def angle_demo():\n",
    "    angle = math.sin(math.pi/2)\n",
    "    # the default input is in radius\n",
    "    # angel sin(90)=1 in degreen == sin(pi/2)=1 in redians\n",
    "    print(angle)\n",
    "    # to make it convenient, convert it to radians\n",
    "    angle = math.sin(math.radians(90))\n",
    "    print(angle)\n",
    "    # this is also similar for cosine and other trigonometric and hyperbolic functions\n",
    "angle_demo()    \n",
    "\"\"\""
   ]
  },
  {
   "cell_type": "code",
   "execution_count": 50,
   "id": "b5f2830c-5fc9-4471-8e71-e00315f32593",
   "metadata": {},
   "outputs": [
    {
     "name": "stdout",
     "output_type": "stream",
     "text": [
      "The program will end in 10...\n",
      "The program will end in 9...\n",
      "The program will end in 8...\n",
      "The program will end in 7...\n",
      "The program will end in 6...\n",
      "The program will end in 5...\n",
      "The program will end in 4...\n",
      "The program will end in 3...\n",
      "The program will end in 2...\n",
      "The program will end in 1...\n"
     ]
    }
   ],
   "source": [
    "#TIME AND DATE MODULE\n",
    "#dateandtime.py\n",
    "\n",
    "\"\"\"\n",
    "import time\n",
    "\n",
    "def pause():\n",
    "    for i in range(10, 0, -1):\n",
    "        print(f\"The program will end in {i}...\")\n",
    "        time.sleep(1)\n",
    "pause()\n",
    "\"\"\""
   ]
  },
  {
   "cell_type": "code",
   "execution_count": 54,
   "id": "bdd7142a-6f35-482c-9995-325fd7c00976",
   "metadata": {},
   "outputs": [
    {
     "name": "stdout",
     "output_type": "stream",
     "text": [
      "01:22 PM\n"
     ]
    }
   ],
   "source": [
    "#datetime.py Part 2\n",
    "\n",
    "\"\"\"\n",
    "import time\n",
    "\n",
    "def pause():\n",
    "    for i in range(10, 0, -1):\n",
    "        print(f\"The program will end in {i}...\")\n",
    "        time.sleep(1)\n",
    "\n",
    "def current_time():\n",
    "    t = time.strftime(\"%I:%M %p\")\n",
    "    return t\n",
    "print(current_time())\n",
    "\"\"\""
   ]
  },
  {
   "cell_type": "code",
   "execution_count": 58,
   "id": "5a118674-199a-4b31-aa92-6b91ce303783",
   "metadata": {},
   "outputs": [
    {
     "name": "stdout",
     "output_type": "stream",
     "text": [
      "Sep 15 2024\n"
     ]
    }
   ],
   "source": [
    "#datetime.py Part 3\n",
    "\n",
    "\"\"\"\n",
    "import time\n",
    "\n",
    "def pause():\n",
    "    for i in range(10, 0, -1):\n",
    "        print(f\"The program will end in {i}...\")\n",
    "        time.sleep(1)\n",
    "\n",
    "def current_time():\n",
    "    t = time.strftime(\"%I:%M %p\")\n",
    "    return t\n",
    "\n",
    "def current_date():\n",
    "    d = time.strftime(\"%b %d %Y\")\n",
    "    return d\n",
    "print(current_date())\n",
    "\"\"\""
   ]
  },
  {
   "cell_type": "code",
   "execution_count": 72,
   "id": "eff8a829-eadb-4435-ba63-834316f80f59",
   "metadata": {},
   "outputs": [
    {
     "ename": "ModuleNotFoundError",
     "evalue": "No module named 'dateandtime'",
     "output_type": "error",
     "traceback": [
      "\u001b[1;31m---------------------------------------------------------------------------\u001b[0m",
      "\u001b[1;31mModuleNotFoundError\u001b[0m                       Traceback (most recent call last)",
      "Cell \u001b[1;32mIn[72], line 3\u001b[0m\n\u001b[0;32m      1\u001b[0m \u001b[38;5;66;03m#USER DEFINED MODULES\u001b[39;00m\n\u001b[1;32m----> 3\u001b[0m \u001b[38;5;28;01mimport\u001b[39;00m \u001b[38;5;21;01mdateandtime\u001b[39;00m\n\u001b[0;32m      5\u001b[0m \u001b[38;5;28mprint\u001b[39m(\u001b[38;5;124m\"\u001b[39m\u001b[38;5;124mThe current time is\u001b[39m\u001b[38;5;124m\"\u001b[39m, dateandtime\u001b[38;5;241m.\u001b[39mcurrent_time())\n",
      "\u001b[1;31mModuleNotFoundError\u001b[0m: No module named 'dateandtime'"
     ]
    }
   ],
   "source": [
    "#USER DEFINED MODULES\n",
    "\"\"\"\n",
    "import dateandtime\n",
    "\n",
    "print(\"The current time is\", dateandtime.current_time())\n",
    "\n",
    "#does not seem to work\n",
    "\"\"\""
   ]
  },
  {
   "cell_type": "code",
   "execution_count": 74,
   "id": "6a4fcbf9-82ee-4d5b-aae7-378d4347705e",
   "metadata": {},
   "outputs": [
    {
     "ename": "ModuleNotFoundError",
     "evalue": "No module named 'dateandtime'",
     "output_type": "error",
     "traceback": [
      "\u001b[1;31m---------------------------------------------------------------------------\u001b[0m",
      "\u001b[1;31mModuleNotFoundError\u001b[0m                       Traceback (most recent call last)",
      "Cell \u001b[1;32mIn[74], line 1\u001b[0m\n\u001b[1;32m----> 1\u001b[0m \u001b[38;5;28;01mfrom\u001b[39;00m \u001b[38;5;21;01mdateandtime\u001b[39;00m \u001b[38;5;28;01mimport\u001b[39;00m current_time, current_date\n\u001b[0;32m      3\u001b[0m \u001b[38;5;28mprint\u001b[39m(\u001b[38;5;124m\"\u001b[39m\u001b[38;5;124mThe current time is\u001b[39m\u001b[38;5;124m\"\u001b[39m, current_time())\n\u001b[0;32m      4\u001b[0m \u001b[38;5;28mprint\u001b[39m(\u001b[38;5;124m\"\u001b[39m\u001b[38;5;124mThe current time is\u001b[39m\u001b[38;5;124m\"\u001b[39m, current_date())\n",
      "\u001b[1;31mModuleNotFoundError\u001b[0m: No module named 'dateandtime'"
     ]
    }
   ],
   "source": [
    "#USER DEFINED MODULES Part 2\n",
    "\"\"\"\n",
    "from dateandtime import current_time, current_date\n",
    "\n",
    "print(\"The current time is\", current_time())\n",
    "print(\"The current time is\", current_date())\n",
    "\n",
    "#does not seem to work as well\n",
    "\"\"\""
   ]
  },
  {
   "cell_type": "code",
   "execution_count": null,
   "id": "1632e368-66b2-4352-a070-c23f9d3cbf96",
   "metadata": {},
   "outputs": [],
   "source": []
  }
 ],
 "metadata": {
  "kernelspec": {
   "display_name": "Python 3 (ipykernel)",
   "language": "python",
   "name": "python3"
  },
  "language_info": {
   "codemirror_mode": {
    "name": "ipython",
    "version": 3
   },
   "file_extension": ".py",
   "mimetype": "text/x-python",
   "name": "python",
   "nbconvert_exporter": "python",
   "pygments_lexer": "ipython3",
   "version": "3.12.4"
  }
 },
 "nbformat": 4,
 "nbformat_minor": 5
}
