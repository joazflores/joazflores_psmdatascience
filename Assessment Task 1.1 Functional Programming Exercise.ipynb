{
 "cells": [
  {
   "cell_type": "code",
   "execution_count": 173,
   "id": "74883d40-d620-4d9d-8a7e-3a8cb511643c",
   "metadata": {},
   "outputs": [
    {
     "ename": "NameError",
     "evalue": "name 'ytuyt' is not defined",
     "output_type": "error",
     "traceback": [
      "\u001b[1;31m---------------------------------------------------------------------------\u001b[0m",
      "\u001b[1;31mNameError\u001b[0m                                 Traceback (most recent call last)",
      "Cell \u001b[1;32mIn[173], line 63\u001b[0m\n\u001b[0;32m     56\u001b[0m \u001b[38;5;124;03m\"\"\"\u001b[39;00m\n\u001b[0;32m     57\u001b[0m \u001b[38;5;124;03mBy putting float data type in the height and weight input users are not able to input non numeric values.\u001b[39;00m\n\u001b[0;32m     58\u001b[0m \n\u001b[0;32m     59\u001b[0m \u001b[38;5;124;03mheight = float(input(\"Enter height\"))\u001b[39;00m\n\u001b[0;32m     60\u001b[0m \u001b[38;5;124;03mweight = float(input(\"Enter weight\"))\u001b[39;00m\n\u001b[0;32m     61\u001b[0m \u001b[38;5;124;03m\"\"\"\u001b[39;00m\n\u001b[0;32m     62\u001b[0m \u001b[38;5;66;03m#3d) How do you handle the situation where the ID# for the print user function is not passed a valid ID?\u001b[39;00m\n\u001b[1;32m---> 63\u001b[0m \u001b[38;5;28mprint\u001b[39m(userdictionary[ytuyt])\n",
      "\u001b[1;31mNameError\u001b[0m: name 'ytuyt' is not defined"
     ]
    }
   ],
   "source": [
    "#Problem Items\n",
    "\n",
    "#1. Create a dictionary to contain a pair of values, an ID number and a list containing user details, such as name, height, weight and BMI.\n",
    "\"\"\"\n",
    "userdictionary = {\n",
    "                12345 : [\"Joaz Flores\", \"163\", \"100\", \"30.0\"],\n",
    "                12346 : [\"John Doe\", \"160\", \"70\", \"25.0\"]\n",
    "                 }\n",
    "\"\"\"\n",
    "#2. Create functions that can perform the following tasks:\n",
    "\"\"\"\n",
    "userid = int(input(\"Enter new user id\"))\n",
    "if userid in userdictionary:\n",
    "    print(\"User id already existing please enter a new id\")\n",
    "\n",
    "name = str(input(\"Enter name\"))\n",
    "if not name:\n",
    "    print(\"Name cannot be blank\")\n",
    "\n",
    "height = float(input(\"Enter height\"))\n",
    "weight = float(input(\"Enter weight\"))\n",
    "bmi = float(input(\"Enter BMI\"))\n",
    "\"\"\"\n",
    "#2a) Add an element to the dictionary with its new ID# and aforementioned details,\n",
    "\"\"\"\n",
    "userdictionary[userid] = [name,height,weight,bmi]\n",
    "\"\"\"\n",
    "#adduser = input()\n",
    "\n",
    "#2b) Print a specific user ID, and\n",
    "\"\"\"\n",
    "print(userdictionary[\"12345\"])\n",
    "\"\"\"\n",
    "#2c) Print all details contained.\n",
    "\"\"\"\n",
    "print(userdictionary)\n",
    "\"\"\"\n",
    "#3. Consider the following edge cases and show how you're able to solve them in your code:\n",
    "\n",
    "#3a) What if the new values to add to the dictionary has duplicate values?\n",
    "\"\"\"\n",
    "By adding an if function that checks if the userid(key) is already existing in the dictionary then if it is true tells the user that the userid is already existing.\n",
    "\n",
    "if userid in userdictionary:\n",
    "    print(\"User id already existing please enter a new id\")\n",
    "\"\"\"\n",
    "#3b) How are you handling empty values that the user inputs?\n",
    "\"\"\"\n",
    "Putting an if not statement after the input will check if the user left the input blank.\n",
    "\n",
    "name = str(input(\"Enter name\"))\n",
    "if not name:\n",
    "    print(\"Name cannot be blank\")\n",
    "\"\"\"\n",
    "#3c) Are you able to handle cases wherein height or weight have non-numeric values?\n",
    "\"\"\"\n",
    "By putting float data type in the height and weight input users are not able to input non numeric values.\n",
    "\n",
    "height = float(input(\"Enter height\"))\n",
    "weight = float(input(\"Enter weight\"))\n",
    "\"\"\"\n",
    "#3d) How do you handle the situation where the ID# for the print user function is not passed a valid ID?\n",
    "\"\"\"\n",
    "Python will give a NameError warning and will not execute.\n",
    "\"\"\"\n",
    "#Conclusion/Analysis\n",
    "\n",
    "#Provide a brief explanation on the deficiencies you encountered in this exercise; along with identified learnings.\n",
    "\"\"\"\n",
    "In conclusion, I have a very basic understanding of python. My defecientices would be my inability to memorize the syntax as I need some outside resources to recall it. \n",
    "I am not sure how to create loops that keep running if the input in not valid.\n",
    "I am defecient in error handling using the try and except functions. I am able to create error messages but I am not able to stop the user from entering duplicates.\n",
    "I see the def function being used a lot but I don't know how to use it properly yet and I need more practice in general for python programming.\n",
    "\"\"\""
   ]
  },
  {
   "cell_type": "code",
   "execution_count": null,
   "id": "450c2fdb-fabc-4acd-92df-b7cd3ec3db8f",
   "metadata": {},
   "outputs": [],
   "source": []
  },
  {
   "cell_type": "code",
   "execution_count": null,
   "id": "9ebaafda-8784-4c4f-8979-c9083d64d85a",
   "metadata": {},
   "outputs": [],
   "source": []
  }
 ],
 "metadata": {
  "kernelspec": {
   "display_name": "Python 3 (ipykernel)",
   "language": "python",
   "name": "python3"
  },
  "language_info": {
   "codemirror_mode": {
    "name": "ipython",
    "version": 3
   },
   "file_extension": ".py",
   "mimetype": "text/x-python",
   "name": "python",
   "nbconvert_exporter": "python",
   "pygments_lexer": "ipython3",
   "version": "3.12.4"
  }
 },
 "nbformat": 4,
 "nbformat_minor": 5
}
