{
 "cells": [
  {
   "cell_type": "markdown",
   "id": "d919a96f-2dc0-4506-bfc8-a99db36bca64",
   "metadata": {},
   "source": [
    "#Student Name: Joaz Ephraim A. Flores"
   ]
  },
  {
   "cell_type": "code",
   "execution_count": 1,
   "id": "cbaf6095-887d-43c7-b1a0-6382d10c635e",
   "metadata": {},
   "outputs": [],
   "source": [
    "class class1():\n",
    "    #This is just a sample for class\n",
    "    pass"
   ]
  },
  {
   "cell_type": "code",
   "execution_count": 3,
   "id": "bcda71fc-2365-4c81-931e-57e9d840b1b5",
   "metadata": {},
   "outputs": [],
   "source": [
    "class employee():\n",
    "    def __init__(self, name, age, emp_id, salary):\n",
    "        self.name = name\n",
    "        self.age = age\n",
    "        self.salary = salary\n",
    "        self.id = emp_id"
   ]
  },
  {
   "cell_type": "code",
   "execution_count": 5,
   "id": "100dd08d-c150-4abd-8955-f8e547a415b4",
   "metadata": {},
   "outputs": [],
   "source": [
    "emp1 = employee('Roman', 22, '0001', 1234)\n",
    "emp2 = employee('Richard', 23, '0002', 2345)"
   ]
  },
  {
   "cell_type": "code",
   "execution_count": 7,
   "id": "a664c6d3-b2e5-4732-9a9b-411195bd59af",
   "metadata": {},
   "outputs": [
    {
     "name": "stdout",
     "output_type": "stream",
     "text": [
      "{'name': 'Roman', 'age': 22, 'salary': 1234, 'id': '0001'}\n"
     ]
    }
   ],
   "source": [
    "print(emp1.__dict__)"
   ]
  },
  {
   "cell_type": "code",
   "execution_count": 11,
   "id": "6e0846a7-3c31-4b6e-87f5-c1b57a0cfb39",
   "metadata": {},
   "outputs": [
    {
     "name": "stdout",
     "output_type": "stream",
     "text": [
      "Roman 0\n",
      "PART TIME EMPLOYEE\n",
      "Richard 1\n",
      "PART TIME EMPLOYEE\n"
     ]
    }
   ],
   "source": [
    "# Single Inheritance\n",
    "class employee(): #Parent Class\n",
    "    emp_id = 0\n",
    "\n",
    "    def __init__(self, name, age, salary):\n",
    "        self.name = name\n",
    "        self.age = age\n",
    "        temp_id = employee.emp_id\n",
    "        employee.emp_id += 1\n",
    "        self.id = temp_id\n",
    "\n",
    "    def printDetails(self):\n",
    "        print(self.name, self.id)\n",
    "\n",
    "class partTime(employee): # Child Class\n",
    "\n",
    "    def status_PT(self):\n",
    "        self.printDetails()\n",
    "        print(\"PART TIME EMPLOYEE\")\n",
    "\n",
    "emp1 = partTime('Roman', 22, 1234.00)\n",
    "emp2 = partTime('Richard', 23, 2345.00)\n",
    "\n",
    "emp1.status_PT()\n",
    "emp2.status_PT()"
   ]
  },
  {
   "cell_type": "code",
   "execution_count": 15,
   "id": "70654b93-351c-4665-bc98-cd9cb4cbcd8d",
   "metadata": {},
   "outputs": [
    {
     "name": "stdout",
     "output_type": "stream",
     "text": [
      "Roman 0\n",
      "Roman 23\n",
      "PROFESSIONAL ID: 0\n",
      "EMPLOYEE ID: 0 \n",
      "\n",
      "Richard 1\n",
      "Richard 29\n",
      "PROFESSIONAL ID: 1\n",
      "EMPLOYEE ID: 1 \n",
      "\n"
     ]
    }
   ],
   "source": [
    "# Multiple Inheritance\n",
    "class employee(): # Parent Class\n",
    "    emp_id = 0\n",
    "\n",
    "    def __init__(self, name, age, salary):\n",
    "        self.name = name\n",
    "        self.age = age\n",
    "        temp_id = employee.emp_id\n",
    "        employee.emp_id += 1\n",
    "        self.id = temp_id\n",
    "\n",
    "    def printDetails(self):\n",
    "        print(self.name, self.id)\n",
    "\n",
    "class professional():\n",
    "    prc_id = 0\n",
    "\n",
    "    def __init__(self, name, age):\n",
    "        self.name = name\n",
    "        self.age = age\n",
    "        self.pro_id = self.getID()\n",
    "\n",
    "    def getID(self):\n",
    "        temp_id = professional.prc_id\n",
    "        professional.prc_id += 1\n",
    "        self.pro_id = temp_id\n",
    "        return str(self.pro_id)\n",
    "\n",
    "class consultant(employee, professional):\n",
    "\n",
    "    def status(self):\n",
    "        print(self.name, self.age)\n",
    "        print(\"PROFESSIONAL ID: {}\".format(self.getID()))\n",
    "        print(\"EMPLOYEE ID: {}\".format(self.id), '\\n')\n",
    "\n",
    "consultant1 = consultant('Roman', 23, 1234.00)\n",
    "consultant1.printDetails()\n",
    "consultant1.status()\n",
    "\n",
    "consultant2 = consultant('Richard', 29, 2345.00)\n",
    "consultant2.printDetails()\n",
    "consultant2.status()"
   ]
  },
  {
   "cell_type": "code",
   "execution_count": 17,
   "id": "ed503cc2-9654-431d-a7f6-7b7c874c120b",
   "metadata": {},
   "outputs": [
    {
     "name": "stdout",
     "output_type": "stream",
     "text": [
      "No Valid Dept ID Set.\n"
     ]
    },
    {
     "name": "stdin",
     "output_type": "stream",
     "text": [
      "Input new ID:  2\n"
     ]
    },
    {
     "name": "stdout",
     "output_type": "stream",
     "text": [
      "Deparment ID Set. \n",
      "\n",
      "Employee 0 is now supervising.\n"
     ]
    }
   ],
   "source": [
    "# Multilevel Inheritance\n",
    "class employee():\n",
    "    emp_id = 0\n",
    "\n",
    "    def __init__(self, name, age, salary):\n",
    "        self.name = name\n",
    "        self.age = age\n",
    "        self.salary = salary\n",
    "        self.id = setEmpID()\n",
    "\n",
    "    def printDetails(self):\n",
    "        print(self.name, self.id)\n",
    "\n",
    "    def setEmpID(self):\n",
    "        temp_id = employee.emp_id\n",
    "        employee.emp_id += 1\n",
    "        return temp_id\n",
    "\n",
    "class middle(employee): # First Derived Class\n",
    "\n",
    "    def __init__(self, name, age, salary):\n",
    "        self.name = name\n",
    "        self.age = age\n",
    "        self.salary = salary\n",
    "        self.id = self.setEmpID()\n",
    "        self.deptID = self.setDept()\n",
    "\n",
    "    def setDept(self, newID=None):\n",
    "        if newID == None:\n",
    "            print(\"No Valid Dept ID Set.\")\n",
    "            self.deptID = int(input(\"Input new ID: \"))\n",
    "        else:\n",
    "            self.deptID = newID\n",
    "        print(\"Deparment ID Set. \\n\")\n",
    "\n",
    "    def status(self):\n",
    "        print(\"{} has ID No. {}\".format(\n",
    "        self.name, self.id))\n",
    "\n",
    "class supervisor(middle):\n",
    "\n",
    "    def supervise(self):\n",
    "        print(\"Employee {} is now supervising.\".format(self.id))\n",
    "\n",
    "supervisor1 = supervisor('Roman', 29, 1234.00)\n",
    "supervisor1.supervise()"
   ]
  },
  {
   "cell_type": "code",
   "execution_count": 19,
   "id": "bd7fd1f3-f4ee-48df-97d6-90ba47d02dda",
   "metadata": {},
   "outputs": [
    {
     "name": "stdout",
     "output_type": "stream",
     "text": [
      "No Valid Dept ID Set.\n"
     ]
    },
    {
     "name": "stdin",
     "output_type": "stream",
     "text": [
      "INput new ID:  2\n"
     ]
    },
    {
     "name": "stdout",
     "output_type": "stream",
     "text": [
      "Department ID Set. \n",
      "\n",
      "No Valid Dept ID Set.\n"
     ]
    },
    {
     "name": "stdin",
     "output_type": "stream",
     "text": [
      "Input new ID:  2\n"
     ]
    },
    {
     "name": "stdout",
     "output_type": "stream",
     "text": [
      "Department ID Set.\n",
      "\n",
      "Middle: Roman has ID No. 0\n",
      "Top: Richard has ID No. 1\n"
     ]
    }
   ],
   "source": [
    "# Heirarchical Inheritance\n",
    "class employee(): # Parent Class\n",
    "    emp_id = 0\n",
    "\n",
    "    def __init__(self, name, age, salary):\n",
    "        self.name = name\n",
    "        self.age = age\n",
    "        self.salary = salary\n",
    "        self.id = setEmpID()\n",
    "\n",
    "    def printDetails(self):\n",
    "        print(self.name, self.id)\n",
    "\n",
    "    def setEmpID(self):\n",
    "        print(self.name, self.id)\n",
    "\n",
    "    def setEmpID(self):\n",
    "        temp_id = employee.emp_id\n",
    "        employee.emp_id += 1\n",
    "        return temp_id\n",
    "\n",
    "class middle(employee): # First Child Class\n",
    "\n",
    "    def __init__(self, name, age, salary):\n",
    "        self.name = name\n",
    "        self.age = age\n",
    "        self.salary = salary\n",
    "        self.id = self.setEmpID()\n",
    "        self.deptID = self.setDept()\n",
    "\n",
    "    def setDept(self, newID=None):\n",
    "        if newID == None:\n",
    "            print(\"No Valid Dept ID Set.\")\n",
    "            self.deptID = int(input(\"INput new ID: \"))\n",
    "        else:\n",
    "            self.deptID = newID\n",
    "        print(\"Department ID Set. \\n\")\n",
    "\n",
    "    def status(self):\n",
    "        print(\"Middle: {} has ID No. {}\".format(\n",
    "        self.name, self.id))\n",
    "\n",
    "class top(employee): # Second Child Class\n",
    "\n",
    "    def __init__(self, name, age, salary):\n",
    "        self.name = name\n",
    "        self.age = age\n",
    "        self.salary = salary\n",
    "        self.id = self.setEmpID()\n",
    "        self.deptID = self.setDept()\n",
    "\n",
    "    def setDept(self, newID=None):\n",
    "        if newID == None:\n",
    "            print(\"No Valid Dept ID Set.\")\n",
    "            self.deptID = int(input(\"Input new ID: \"))\n",
    "        else:\n",
    "            self.deptID = newID\n",
    "        print(\"Department ID Set.\\n\")\n",
    "\n",
    "    def status(self):\n",
    "        print(\"Top: {} has ID No. {}\".format(\n",
    "        self.name, self.id))\n",
    "\n",
    "emp1 = middle('Roman', 29, 1234.00)\n",
    "emp2 = top('Richard', 29, 2345.00)\n",
    "\n",
    "emp1.status()\n",
    "emp2.status()"
   ]
  },
  {
   "cell_type": "code",
   "execution_count": 21,
   "id": "f8369dcf-eb72-437b-b3c5-491e6269a495",
   "metadata": {},
   "outputs": [
    {
     "name": "stdout",
     "output_type": "stream",
     "text": [
      "No Valid Dept ID Set.\n"
     ]
    },
    {
     "name": "stdin",
     "output_type": "stream",
     "text": [
      "Input new ID:  2\n"
     ]
    },
    {
     "name": "stdout",
     "output_type": "stream",
     "text": [
      "Department ID Set.\n",
      "\n"
     ]
    },
    {
     "ename": "AttributeError",
     "evalue": "'top' object has no attribute '_top__salary'",
     "output_type": "error",
     "traceback": [
      "\u001b[1;31m---------------------------------------------------------------------------\u001b[0m",
      "\u001b[1;31mAttributeError\u001b[0m                            Traceback (most recent call last)",
      "Cell \u001b[1;32mIn[21], line 73\u001b[0m\n\u001b[0;32m     70\u001b[0m         \u001b[38;5;28mprint\u001b[39m(\u001b[38;5;28mself\u001b[39m\u001b[38;5;241m.\u001b[39m__salary)\n\u001b[0;32m     72\u001b[0m emp1 \u001b[38;5;241m=\u001b[39m top(\u001b[38;5;124m'\u001b[39m\u001b[38;5;124mRoman\u001b[39m\u001b[38;5;124m'\u001b[39m, \u001b[38;5;241m29\u001b[39m, \u001b[38;5;241m1234.00\u001b[39m)\n\u001b[1;32m---> 73\u001b[0m emp1\u001b[38;5;241m.\u001b[39mprintSalary()\n\u001b[0;32m     74\u001b[0m emp1\u001b[38;5;241m.\u001b[39msalary\n",
      "Cell \u001b[1;32mIn[21], line 70\u001b[0m, in \u001b[0;36mtop.printSalary\u001b[1;34m(self)\u001b[0m\n\u001b[0;32m     69\u001b[0m \u001b[38;5;28;01mdef\u001b[39;00m \u001b[38;5;21mprintSalary\u001b[39m(\u001b[38;5;28mself\u001b[39m):\n\u001b[1;32m---> 70\u001b[0m     \u001b[38;5;28mprint\u001b[39m(\u001b[38;5;28mself\u001b[39m\u001b[38;5;241m.\u001b[39m__salary)\n",
      "\u001b[1;31mAttributeError\u001b[0m: 'top' object has no attribute '_top__salary'"
     ]
    }
   ],
   "source": [
    "# Polymorphism\n",
    "class employee(): # Parent Class\n",
    "    emp_id = 0\n",
    "\n",
    "    def __init__(self, name, age, salary):\n",
    "        self.name = name\n",
    "        self.age = age\n",
    "        self.salary = salary\n",
    "        self.id = self.setEmpID()\n",
    "\n",
    "    def printDetails(self):\n",
    "        print(self.name, self.id)\n",
    "\n",
    "    def setEmpID(self):\n",
    "        temp_id = employee.emp_id\n",
    "        employee.emp_id += 1\n",
    "        return temp_id\n",
    "\n",
    "class middle(employee): # First Child Class\n",
    "\n",
    "    def __init__(self, name, age, salary):\n",
    "        self.name = name\n",
    "        self.age = age\n",
    "        self.salary = salary\n",
    "        self.id = self.setEmpID()\n",
    "        self.deptID = self.setDept()\n",
    "\n",
    "    def printDetails(self):\n",
    "        print(\"MIDDLE:\")\n",
    "        print(self.name, self.id)\n",
    "\n",
    "    def setDept(self, newID=None):\n",
    "        if newID == None:\n",
    "            print(\"No Valid Dept ID Set.\")\n",
    "            self.deptID = int(input(\"INput new ID: \"))\n",
    "        else:\n",
    "            self.deptID = newID\n",
    "        print(\"Department ID Set.\\n\")\n",
    "\n",
    "    def status(self):\n",
    "        print(\"Middle: {} has ID No. {}\".format(\n",
    "        self.name, self.id))\n",
    "\n",
    "class top(employee): # Second Child Class\n",
    "\n",
    "    def __init__(self, name, age, salary):\n",
    "        self.name = name\n",
    "        self.age = age\n",
    "        self.salary = salary\n",
    "        self.id = self.setEmpID()\n",
    "        self.deptID = self.setDept() \n",
    "\n",
    "    def printDetails(self):\n",
    "        print(\"TOP: \")\n",
    "        print(self.name, self.id)\n",
    "\n",
    "    def setDept(self, newID=None):\n",
    "        if newID == None:\n",
    "            print(\"No Valid Dept ID Set.\")\n",
    "            self.deptID = int(input(\"Input new ID: \"))\n",
    "        else:\n",
    "            self.deptID = newID\n",
    "        print(\"Department ID Set.\\n\")\n",
    "\n",
    "    def status(self):\n",
    "        print(\"Top: {} has ID No. {}\".format(\n",
    "        self.name, self.id))\n",
    "\n",
    "    def printSalary(self):\n",
    "        print(self.__salary)\n",
    "\n",
    "emp1 = top('Roman', 29, 1234.00)\n",
    "emp1.printSalary()\n",
    "emp1.salary"
   ]
  },
  {
   "cell_type": "code",
   "execution_count": null,
   "id": "02531358-301e-4b88-8756-f32ccda679ba",
   "metadata": {},
   "outputs": [],
   "source": [
    "\"\"\"\n",
    "Exercises:\n",
    "\n",
    "Question 1: Methods can be of two types, getters and setters. Getters take values by parameters passing and setters set values in the \n",
    "given class.\n",
    "\n",
    "Create a class student with appropriate attributes.\n",
    "Create getter and setter methods for it.\n",
    "\n",
    "Note: Take into account that the student's ID number, name and other important details must not be publicly available. It must only\n",
    "be accessed by appropriate class methods.\n",
    "\n",
    "Question 2: A graduate student is different from a student in the undergraduate program.\n",
    "\n",
    "Create a class undergrad that derives from the class student.\n",
    "Create a class graduate that derives from the class student.\n",
    "create appropriate attributes and methods for each derived class.\n",
    "\n",
    "What type of inheritance is shown here?\n",
    "\n",
    "Question 3: A graduate student may be in the master's program or the doctorate program. Create the appropriate class for the\n",
    "doctorate program that sets it apart from the rest of the graduate programs.\n",
    "\n",
    "Justify the type of inheritance you used to answer this question.\n",
    "How did you demonstrate polymorphism here?\n",
    "\n",
    "Question 4: Create 3 instances of the master's class.\n",
    "\n",
    "Test all the methods of the class.\n",
    "Use the del command to delete the object after declaration and testing all the methods.\n",
    "Call the same object and test the same methods. Does it work?\n",
    "\"\"\""
   ]
  },
  {
   "cell_type": "code",
   "execution_count": 25,
   "id": "2d0304d7-c397-4d32-b206-dac0e611fff4",
   "metadata": {},
   "outputs": [
    {
     "name": "stdout",
     "output_type": "stream",
     "text": [
      "Joaz\n",
      "9999\n",
      "Ephraim\n"
     ]
    }
   ],
   "source": [
    "#Question 1\n",
    "\n",
    "# Creating the student class with private attributes\n",
    "class Student:\n",
    "    def __init__(self, student_id, name, age):\n",
    "        # Private attributes\n",
    "        self.__student_id = student_id\n",
    "        self.__name = name\n",
    "        self.__age = age\n",
    "\n",
    "    # Getter methods to access private attributes\n",
    "    def get_student_id(self):\n",
    "        return self.__student_id\n",
    "\n",
    "    def get_name(self):\n",
    "        return self.__name\n",
    "\n",
    "    def get_age(self):\n",
    "        return self.__age\n",
    "\n",
    "    # Setter methods to modify private attributes\n",
    "    def set_student_id(self, student_id):\n",
    "        self.__student_id = student_id\n",
    "\n",
    "    def set_name(self, name):\n",
    "        self.__name = name\n",
    "\n",
    "    def set_age(self, age):\n",
    "        self.__age = age\n",
    "\n",
    "# Testing the class\n",
    "student = Student(9999, 'Joaz', 21)\n",
    "print(student.get_name())   \n",
    "print(student.get_student_id())\n",
    "\n",
    "student.set_name('Ephraim')\n",
    "print(student.get_name())   "
   ]
  },
  {
   "cell_type": "code",
   "execution_count": 57,
   "id": "c8d63ce5-65f5-4d46-bdf1-ffed49d9a967",
   "metadata": {},
   "outputs": [
    {
     "name": "stdout",
     "output_type": "stream",
     "text": [
      "John Doe\n",
      "Freshman\n",
      "Data Science\n"
     ]
    }
   ],
   "source": [
    "#Question 2\n",
    "\n",
    "# Undergrad class inherits from Student\n",
    "class Undergrad(Student):\n",
    "    def __init__(self, student_id, name, age, year):\n",
    "        # Call to Student class constructor\n",
    "        Student.__init__(self, student_id, name, age)\n",
    "        self.year = year  # Specific attribute for undergrad students\n",
    "\n",
    "    def get_year(self):\n",
    "        return self.year\n",
    "\n",
    "# Graduate class inherits from Student\n",
    "class Graduate(Student):\n",
    "    def __init__(self, student_id, name, age, research_topic):\n",
    "        # Call to Student class constructor\n",
    "        Student.__init__(self, student_id, name, age)\n",
    "        self.research_topic = research_topic  # Specific attribute for graduate students\n",
    "\n",
    "    def get_research_topic(self):\n",
    "        return self.research_topic\n",
    "\n",
    "# Testing the Undergrad and Graduate classes\n",
    "undergrad_student = Undergrad(1234, 'John Doe', 18, 'Freshman')\n",
    "graduate_student = Graduate(5678, 'Jane Doe', 27, 'Data Science')\n",
    "\n",
    "print(undergrad_student.get_name())  \n",
    "print(undergrad_student.get_year())  \n",
    "print(graduate_student.get_research_topic())  "
   ]
  },
  {
   "cell_type": "code",
   "execution_count": 63,
   "id": "3aaef6f1-9e9e-4a55-b57e-1f5d06674b70",
   "metadata": {},
   "outputs": [
    {
     "name": "stdout",
     "output_type": "stream",
     "text": [
      "Research in Fighting Crime\n",
      "How to Manage a Business and Still Fight Crime\n"
     ]
    }
   ],
   "source": [
    "#Question 3\n",
    "\n",
    "# Doctorate class inherits from Graduate\n",
    "class Doctorate(Graduate):\n",
    "    def __init__(self, student_id, name, age, research_topic, thesis_title):\n",
    "        # Call to Graduate class constructor\n",
    "        Graduate.__init__(self, student_id, name, age, research_topic)\n",
    "        self.thesis_title = thesis_title  # Specific to doctorate students\n",
    "\n",
    "    # Overriding method to demonstrate polymorphism\n",
    "    def get_research_topic(self):\n",
    "        return f\"Research in {self.research_topic}\"\n",
    "\n",
    "    def get_thesis_title(self):\n",
    "        return self.thesis_title\n",
    "\n",
    "# Testing the Doctorate class\n",
    "doctorate_student = Doctorate(9874, 'Bruce Wayne', 30, 'Fighting Crime', 'How to Manage a Business and Still Fight Crime')\n",
    "\n",
    "print(doctorate_student.get_research_topic())  # Doctoral Research in Artificial Intelligence\n",
    "print(doctorate_student.get_thesis_title())    # AI in Healthcare\n"
   ]
  },
  {
   "cell_type": "code",
   "execution_count": 65,
   "id": "01c4337d-7773-41d8-a6f7-1742ee6b444d",
   "metadata": {},
   "outputs": [
    {
     "name": "stdout",
     "output_type": "stream",
     "text": [
      "David\n",
      "Data Science\n",
      "Dr. Smith\n",
      "Error: name 'master1' is not defined\n"
     ]
    }
   ],
   "source": [
    "#Question 4\n",
    "\n",
    "# Masters class inherits from Graduate\n",
    "class Masters(Graduate):\n",
    "    def __init__(self, student_id, name, age, research_topic, thesis_advisor):\n",
    "        # Explicit call to Graduate class constructor\n",
    "        Graduate.__init__(self, student_id, name, age, research_topic)\n",
    "        self.thesis_advisor = thesis_advisor  # Specific to master's students\n",
    "\n",
    "    def get_thesis_advisor(self):\n",
    "        return self.thesis_advisor\n",
    "\n",
    "# Create 3 instances of Masters class\n",
    "master1 = Masters(1234, 'David', 24, 'Data Science', 'Dr. Smith')\n",
    "master2 = Masters(5678, 'John', 26, 'Cybersecurity', 'Dr. Johnson')\n",
    "master3 = Masters(4321, 'Natalie', 28, 'Robotics', 'Dr. Brown')\n",
    "\n",
    "# Test the methods\n",
    "print(master1.get_name())           \n",
    "print(master1.get_research_topic()) \n",
    "print(master1.get_thesis_advisor())  \n",
    "\n",
    "# Using del to delete an object\n",
    "del master1\n",
    "\n",
    "# Trying to access deleted object (will raise an error)\n",
    "try:\n",
    "    print(master1.get_name())  # This will cause an error\n",
    "except NameError as e:\n",
    "    print(f\"Error: {e}\")\n"
   ]
  },
  {
   "cell_type": "code",
   "execution_count": null,
   "id": "9dd534d7-0d59-41ac-9eb6-3f69ce0da1f0",
   "metadata": {},
   "outputs": [],
   "source": []
  }
 ],
 "metadata": {
  "kernelspec": {
   "display_name": "Python 3 (ipykernel)",
   "language": "python",
   "name": "python3"
  },
  "language_info": {
   "codemirror_mode": {
    "name": "ipython",
    "version": 3
   },
   "file_extension": ".py",
   "mimetype": "text/x-python",
   "name": "python",
   "nbconvert_exporter": "python",
   "pygments_lexer": "ipython3",
   "version": "3.12.4"
  }
 },
 "nbformat": 4,
 "nbformat_minor": 5
}
