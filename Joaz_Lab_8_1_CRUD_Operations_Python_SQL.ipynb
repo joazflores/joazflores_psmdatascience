{
  "nbformat": 4,
  "nbformat_minor": 0,
  "metadata": {
    "colab": {
      "provenance": []
    },
    "kernelspec": {
      "name": "python3",
      "display_name": "Python 3"
    },
    "language_info": {
      "name": "python"
    }
  },
  "cells": [
    {
      "cell_type": "markdown",
      "source": [
        "Student Name: Joaz Ephraim A. Flores"
      ],
      "metadata": {
        "id": "p5Vh8RSTu_oc"
      }
    },
    {
      "cell_type": "code",
      "execution_count": 18,
      "metadata": {
        "id": "DXduY0-gU8i6"
      },
      "outputs": [],
      "source": [
        "\"\"\"\n",
        "# Creating table into database!!!\n",
        "import sqlite3\n",
        "# Connect to sqlite database\n",
        "conn = sqlite3.connect('students.db')\n",
        "# cursor object\n",
        "cursor = conn.cursor()\n",
        "# drop query\n",
        "cursor.execute(\"DROP TABLE IF EXISTS STUDENT\")\n",
        "# create query\n",
        "query = \"\"\"CREATE TABLE STUDENT(\n",
        "        ID INT PRIMARY KEY NOT NULL,\n",
        "        NAME CHAR(20) NOT NULL,\n",
        "        ROLL CHAR(20),\n",
        "        ADDRESS CHAR(50),\n",
        "        CLASS CHAR(20) )\"\"\"\n",
        "cursor.execute(query)\n",
        "# commit and close\n",
        "conn.commit()\n",
        "conn.close()\n",
        "\"\"\""
      ]
    },
    {
      "cell_type": "code",
      "source": [
        "\"\"\"\n",
        "import sqlite3\n",
        "conn = sqlite3.connect('students.db')\n",
        "conn.execute(\"INSERT INTO STUDENT (ID,NAME,ROLL,ADDRESS,CLASS) \"\n",
        "             \"VALUES (1, 'John', '001', 'Bangalore', '10th')\")\n",
        "conn.execute(\"INSERT INTO STUDENT (ID,NAME,ROLL,ADDRESS,CLASS) \"\n",
        "             \"VALUES (2, 'Naren', '002', 'Hyd', '12th')\")\n",
        "conn.commit()\n",
        "conn.close()\n",
        "\"\"\""
      ],
      "metadata": {
        "id": "Ck7bexyOW0Ss"
      },
      "execution_count": 19,
      "outputs": []
    },
    {
      "cell_type": "code",
      "source": [
        "\"\"\"\n",
        "import sqlite3\n",
        "conn = sqlite3.connect('students.db')\n",
        "query = ('INSERT INTO STUDENT (ID,NAME,ROLL,ADDRESS,CLASS) '\n",
        "         'VALUES (:ID, :NAME, :ROLL, :ADDRESS, :CLASS);')\n",
        "params = {\n",
        "        'ID': 3,\n",
        "        'NAME': 'Jax',\n",
        "        'ROLL': '003',\n",
        "        'ADDRESS': 'Delhi',\n",
        "        'CLASS': '9th'\n",
        "    }\n",
        "conn.execute(query, params)\n",
        "conn.commit()\n",
        "conn.close()\n",
        "\"\"\""
      ],
      "metadata": {
        "id": "0i-r0vOHXJ7y"
      },
      "execution_count": 20,
      "outputs": []
    },
    {
      "cell_type": "code",
      "source": [
        "\"\"\"\n",
        "import sqlite3\n",
        "conn = sqlite3.connect('students.db')\n",
        "cursor = conn.execute(\"SELECT * from STUDENT\")\n",
        "print(cursor.fetchall())\n",
        "conn.close()\n",
        "\"\"\""
      ],
      "metadata": {
        "colab": {
          "base_uri": "https://localhost:8080/",
          "height": 0
        },
        "id": "uGitO3ymXZRC",
        "outputId": "a1444676-8a6c-4f4f-8cdd-8d580ba2b486"
      },
      "execution_count": 21,
      "outputs": [
        {
          "output_type": "stream",
          "name": "stdout",
          "text": [
            "[(1, 'John', '001', 'Bangalore', '10th'), (2, 'Naren', '002', 'Hyd', '12th'), (3, 'Jax', '003', 'Delhi', '9th')]\n"
          ]
        }
      ]
    },
    {
      "cell_type": "code",
      "source": [
        "\"\"\"\n",
        "import sqlite3\n",
        "conn = sqlite3.connect('students.db')\n",
        "conn.execute(\"UPDATE STUDENT set ROLL = 005 where ID = 1\")\n",
        "conn.commit()\n",
        "cursor = conn.execute(\"SELECT * from STUDENT\")\n",
        "print(cursor.fetchall())\n",
        "conn.close()\n",
        "\"\"\""
      ],
      "metadata": {
        "id": "LBhksezJXpBO",
        "colab": {
          "base_uri": "https://localhost:8080/",
          "height": 0
        },
        "outputId": "75cf5331-63be-4820-ef1d-c938c9af20e9"
      },
      "execution_count": 22,
      "outputs": [
        {
          "output_type": "stream",
          "name": "stdout",
          "text": [
            "[(1, 'John', '5', 'Bangalore', '10th'), (2, 'Naren', '002', 'Hyd', '12th'), (3, 'Jax', '003', 'Delhi', '9th')]\n"
          ]
        }
      ]
    },
    {
      "cell_type": "code",
      "source": [
        "\"\"\"\n",
        "import sqlite3\n",
        "conn = sqlite3.connect('students.db')\n",
        "conn.execute(\"DELETE from STUDENT where ID = 2;\")\n",
        "conn.commit()\n",
        "cursor = conn.execute(\"SELECT * from STUDENT\")\n",
        "print(cursor.fetchall())\n",
        "conn.close()\n",
        "\"\"\""
      ],
      "metadata": {
        "id": "aRsMKHWVXrGQ",
        "colab": {
          "base_uri": "https://localhost:8080/",
          "height": 0
        },
        "outputId": "3dcb6fa9-cabc-4d80-fb2e-b2f6c9cf1410"
      },
      "execution_count": 23,
      "outputs": [
        {
          "output_type": "stream",
          "name": "stdout",
          "text": [
            "[(1, 'John', '5', 'Bangalore', '10th'), (3, 'Jax', '003', 'Delhi', '9th')]\n"
          ]
        }
      ]
    },
    {
      "cell_type": "code",
      "source": [
        "\"\"\"\n",
        "8.1.3 Supplementary Activity\n",
        "\n",
        "For this activity, you must simulate a banking ecosystem through Python and SQLite 3. The database (banking.db) must have the following tables with the following attributes:\n",
        "User:\n",
        "  Customer Name\n",
        "  Account Number\n",
        "  Address\n",
        "  Phone\n",
        "\n",
        "This user must be able to create account, withdraw and deposit. The account table must have the following details:\n",
        "Account:\n",
        "  accNo\n",
        "  custName\n",
        "  balance\n",
        "\n",
        "The account must be able to get updates and checked for balance. Lastly, a bank table containing the details of the bank must have the following:\n",
        "Bank:\n",
        "  custDetails\n",
        "  loanDetails\n",
        "  txNo\n",
        "  txDate\n",
        "  txTime\n",
        "\n",
        "The bank must be able to give loans, update details, collect money and make transactions. Use SQLite3 for your database and incorporate Python OOP techniques to perform\n",
        "the methods described. Enter your codes below.\n",
        "\"\"\""
      ],
      "metadata": {
        "id": "L5xNbgW_gPIf"
      },
      "execution_count": null,
      "outputs": []
    },
    {
      "cell_type": "code",
      "source": [
        "# Create the USER table\n",
        "import sqlite3\n",
        "conn = sqlite3.connect('banking.db')\n",
        "cursor = conn.cursor()\n",
        "cursor.execute(\"DROP TABLE IF EXISTS USER\")\n",
        "query = \"\"\"CREATE TABLE USER(\n",
        "           customername VARCHAR(255) NOT NULL,\n",
        "           accountnumber INT NOT NULL,\n",
        "           address VARCHAR(255),\n",
        "           phone VARCHAR(255))\"\"\"\n",
        "cursor.execute(query)\n",
        "conn.commit()\n",
        "conn.close()"
      ],
      "metadata": {
        "id": "GZSMWW6egtTd"
      },
      "execution_count": 24,
      "outputs": []
    },
    {
      "cell_type": "code",
      "source": [
        "# Create the ACCOUNT table\n",
        "import sqlite3\n",
        "conn = sqlite3.connect('banking.db')\n",
        "cursor = conn.cursor()\n",
        "cursor.execute(\"DROP TABLE IF EXISTS ACCOUNT\")\n",
        "query = \"\"\"CREATE TABLE ACCOUNT(\n",
        "           accno INT NOT NULL,\n",
        "           custname VARCHAR(255) NOT NULL,\n",
        "           balance FLOAT)\"\"\"\n",
        "cursor.execute(query)\n",
        "conn.commit()\n",
        "conn.close()"
      ],
      "metadata": {
        "id": "PgbGETlOlRKz"
      },
      "execution_count": 38,
      "outputs": []
    },
    {
      "cell_type": "code",
      "source": [
        "# Create the BANK table\n",
        "import sqlite3\n",
        "conn = sqlite3.connect('banking.db')\n",
        "cursor = conn.cursor()\n",
        "cursor.execute(\"DROP TABLE IF EXISTS BANK\")\n",
        "query = \"\"\"CREATE TABLE BANK(\n",
        "           custdetails VARCHAR(255),\n",
        "           loandetails FLOAT,\n",
        "           txno INT NOT NULL,\n",
        "           txdate DATE,\n",
        "           txtime TIME)\"\"\"\n",
        "cursor.execute(query)\n",
        "conn.commit()\n",
        "conn.close()"
      ],
      "metadata": {
        "id": "-rP0gKMFwtdV"
      },
      "execution_count": 128,
      "outputs": []
    },
    {
      "cell_type": "code",
      "source": [
        "# sqlite3 version of DESCRIBE TABLE USER\n",
        "import sqlite3\n",
        "conn = sqlite3.connect('banking.db')\n",
        "cursor = conn.execute(\"PRAGMA table_info('USER')\")\n",
        "print(cursor.fetchall())\n",
        "conn.close()"
      ],
      "metadata": {
        "colab": {
          "base_uri": "https://localhost:8080/",
          "height": 0
        },
        "id": "XLhAjQj3jWz6",
        "outputId": "d69ab523-40d3-4f7b-8373-a1bd5a9e5e6b"
      },
      "execution_count": 37,
      "outputs": [
        {
          "output_type": "stream",
          "name": "stdout",
          "text": [
            "[(0, 'customername', 'VARCHAR(255)', 1, None, 0), (1, 'accountnumber', 'INT', 1, None, 0), (2, 'address', 'VARCHAR(255)', 0, None, 0), (3, 'phone', 'VARCHAR(255)', 0, None, 0)]\n"
          ]
        }
      ]
    },
    {
      "cell_type": "code",
      "source": [
        "# sqlite3 version of DESCRIBE TABLE ACCOUNT\n",
        "import sqlite3\n",
        "conn = sqlite3.connect('banking.db')\n",
        "cursor = conn.execute(\"PRAGMA table_info('ACCOUNT')\")\n",
        "print(cursor.fetchall())\n",
        "conn.close()"
      ],
      "metadata": {
        "colab": {
          "base_uri": "https://localhost:8080/",
          "height": 0
        },
        "id": "I6FHjY7-wmuw",
        "outputId": "4385c1cb-8085-41ee-d087-c00ee6067a5d"
      },
      "execution_count": 39,
      "outputs": [
        {
          "output_type": "stream",
          "name": "stdout",
          "text": [
            "[(0, 'accno', 'INT', 1, None, 0), (1, 'custname', 'VARCHAR(255)', 1, None, 0), (2, 'balance', 'FLOAT', 0, None, 0)]\n"
          ]
        }
      ]
    },
    {
      "cell_type": "code",
      "source": [
        "# sqlite3 version of DESCRIBE TABLE BANK\n",
        "import sqlite3\n",
        "conn = sqlite3.connect('banking.db')\n",
        "cursor = conn.execute(\"PRAGMA table_info('BANK')\")\n",
        "print(cursor.fetchall())\n",
        "conn.close()"
      ],
      "metadata": {
        "colab": {
          "base_uri": "https://localhost:8080/",
          "height": 0
        },
        "id": "65Cycbo4w_Si",
        "outputId": "9f5caa63-4def-4e9f-daae-05e6777fb5e6"
      },
      "execution_count": 123,
      "outputs": [
        {
          "output_type": "stream",
          "name": "stdout",
          "text": [
            "[(0, 'custdetails', 'VARCHAR(255)', 0, None, 0), (1, 'loandetails', 'FLOAT', 0, None, 0), (2, 'txno', 'INT', 1, None, 0), (3, 'txdate', 'DATE', 0, None, 0), (4, 'txtime', 'TIME', 0, None, 0)]\n"
          ]
        }
      ]
    },
    {
      "cell_type": "code",
      "source": [
        "# SHOW ALL USERS (FOR CHECKING PURPOSES)\n",
        "import sqlite3\n",
        "conn = sqlite3.connect('banking.db')\n",
        "cursor = conn.cursor()\n",
        "cursor.execute(\"SELECT * FROM USER\")\n",
        "for record in cursor.fetchall():\n",
        "  print(record)\n",
        "conn.close()"
      ],
      "metadata": {
        "colab": {
          "base_uri": "https://localhost:8080/",
          "height": 0
        },
        "id": "Rk4ASK8dFhvI",
        "outputId": "b43d18d7-e65a-4049-b71e-9861b2cd47cc"
      },
      "execution_count": 76,
      "outputs": [
        {
          "output_type": "stream",
          "name": "stdout",
          "text": [
            "('Joaz Flores', 123456789, 'Quezon City', '+63 9999999999')\n"
          ]
        }
      ]
    },
    {
      "cell_type": "code",
      "source": [
        "# CREATE USER\n",
        "import sqlite3\n",
        "conn = sqlite3.connect('banking.db')\n",
        "def create_user(customername, accountnumber, address, phone):\n",
        "    conn.execute(f\"INSERT INTO USER (customername, accountnumber, address, phone) VALUES ('{customername}', {accountnumber}, '{address}', '{phone}')\")\n",
        "    conn.commit()\n",
        "    print(f\"User {customername} created with Acc No. {accountnumber}.\")\n",
        "    conn.close()\n",
        "\n",
        "name = \"John Doe\"\n",
        "account = \"223456789\"\n",
        "address = \"Makati City\"\n",
        "phone = \"+63 7777777777\"\n",
        "\n",
        "create_user(name, account, address, phone)"
      ],
      "metadata": {
        "colab": {
          "base_uri": "https://localhost:8080/",
          "height": 0
        },
        "id": "T_b8OnoF6mo6",
        "outputId": "f480b80f-a64e-4135-a85c-f18e2554f418"
      },
      "execution_count": 55,
      "outputs": [
        {
          "output_type": "stream",
          "name": "stdout",
          "text": [
            "User John Doe created with Acc No. 223456789.\n"
          ]
        }
      ]
    },
    {
      "cell_type": "code",
      "source": [
        "# READ USER DETAILS (CAN SHOW MULTIPLE USERS)\n",
        "import sqlite3\n",
        "conn = sqlite3.connect('banking.db')\n",
        "def get_user(accountnumber):\n",
        "    cursor = conn.execute(f\"SELECT customername, accountnumber, address, phone FROM USER WHERE accountnumber IN ({accountnumber})\")\n",
        "    for record in cursor.fetchall():\n",
        "      print(record)\n",
        "    conn.close()\n",
        "\n",
        "acc_no = \"123456789\"\n",
        "\n",
        "get_user(acc_no)"
      ],
      "metadata": {
        "colab": {
          "base_uri": "https://localhost:8080/",
          "height": 0
        },
        "id": "e1BY8ph28l1C",
        "outputId": "a5defecb-e34a-48a7-a462-2a69c746acfe"
      },
      "execution_count": 69,
      "outputs": [
        {
          "output_type": "stream",
          "name": "stdout",
          "text": [
            "('Joaz Flores', 123456789, 'Quezon City', '+63 9999999999')\n"
          ]
        }
      ]
    },
    {
      "cell_type": "code",
      "source": [
        "# UPDATE USER DETAILS DYNAMIC VERSION\n",
        "import sqlite3\n",
        "conn = sqlite3.connect('banking.db')\n",
        "def update_user(accountnumber, customername=None, address=None, phone=None):\n",
        "    # Start with a base query\n",
        "    query = \"UPDATE USER SET \"\n",
        "    updates = []\n",
        "\n",
        "    # Add fields to the query if they are not None\n",
        "    if customername:\n",
        "        updates.append(f\"customername='{customername}'\")\n",
        "    if address:\n",
        "        updates.append(f\"address='{address}'\")\n",
        "    if phone:\n",
        "        updates.append(f\"phone='{phone}'\")\n",
        "\n",
        "    # Join the updates with commas\n",
        "    updates_clause = \", \".join(updates)\n",
        "\n",
        "    # Add the WHERE clause\n",
        "    query += updates_clause + f\" WHERE accountnumber={accountnumber}\"\n",
        "\n",
        "    # Execute the query\n",
        "    conn.execute(query)\n",
        "    conn.commit()\n",
        "    print(f\"Details updated for Account Number: {accountnumber}\")\n",
        "    conn.close()\n",
        "\n",
        "account = \"123456789\"\n",
        "name = \"\"\n",
        "address = \"Quezon City\"\n",
        "phone = \"\"\n",
        "\n",
        "update_user(account, name, address, phone)\n"
      ],
      "metadata": {
        "colab": {
          "base_uri": "https://localhost:8080/",
          "height": 0
        },
        "id": "ammYV2jICaRb",
        "outputId": "480da338-3e09-4247-80db-d8fe1ef19de6"
      },
      "execution_count": 53,
      "outputs": [
        {
          "output_type": "stream",
          "name": "stdout",
          "text": [
            "Details updated for Account Number: 123456789\n"
          ]
        }
      ]
    },
    {
      "cell_type": "code",
      "source": [
        "# DELETE USER\n",
        "import sqlite3\n",
        "conn = sqlite3.connect('banking.db')\n",
        "def delete_user(accountnumber):\n",
        "    conn.execute(f\"DELETE FROM USER WHERE accountnumber={accountnumber}\")\n",
        "    conn.commit()\n",
        "    print(f\"User with Account Number: {accountnumber} has been deleted.\")\n",
        "    conn.close()\n",
        "\n",
        "account = \"223456789\"\n",
        "\n",
        "delete_user(account)"
      ],
      "metadata": {
        "colab": {
          "base_uri": "https://localhost:8080/",
          "height": 0
        },
        "id": "XYYSVQ-1Euux",
        "outputId": "468aec6e-54db-4a98-ead5-6c1251e1bc8e"
      },
      "execution_count": 71,
      "outputs": [
        {
          "output_type": "stream",
          "name": "stdout",
          "text": [
            "User with Account Number: 223456789 has been deleted.\n"
          ]
        }
      ]
    },
    {
      "cell_type": "code",
      "source": [
        "# SHOW ALL ACCOUNTS (FOR CHECKING PURPOSES)\n",
        "import sqlite3\n",
        "conn = sqlite3.connect('banking.db')\n",
        "cursor = conn.cursor()\n",
        "cursor.execute(\"SELECT * FROM ACCOUNT\")\n",
        "for record in cursor.fetchall():\n",
        "  print(record)\n",
        "conn.close()"
      ],
      "metadata": {
        "id": "QGiuGsUnORx4"
      },
      "execution_count": 110,
      "outputs": []
    },
    {
      "cell_type": "code",
      "source": [
        "# CREATE USER WITH INITAL BALANCE TO ACCOUNT\n",
        "import sqlite3\n",
        "conn = sqlite3.connect('banking.db')\n",
        "def create_balance(accno, custname, balance):\n",
        "    conn.execute(f\"INSERT INTO ACCOUNT (accno, custname, balance) VALUES ('{accno}', '{custname}', '{balance}')\")\n",
        "    conn.commit()\n",
        "    print(f\"Created user {accno} with balance {balance:.2f}.\")\n",
        "    conn.close()\n",
        "\n",
        "accno = \"123456789\"\n",
        "custname = \"Joaz Flores\"\n",
        "balance =  \"10079.89\"\n",
        "\n",
        "create_balance(accno, custname, balance)"
      ],
      "metadata": {
        "colab": {
          "base_uri": "https://localhost:8080/",
          "height": 0
        },
        "id": "xWK6_fnGLVu5",
        "outputId": "6795ca61-ba2a-463f-87fb-d7981e78e698"
      },
      "execution_count": 111,
      "outputs": [
        {
          "output_type": "stream",
          "name": "stdout",
          "text": [
            "Created user 123456789 with balance 10079.89.\n"
          ]
        }
      ]
    },
    {
      "cell_type": "code",
      "source": [
        "# WITHDRAW AND UPDATE BALANCE IN ACCOUNT\n",
        "import sqlite3\n",
        "conn = sqlite3.connect('banking.db')\n",
        "def withdraw_balance(accno, withdraw):\n",
        "    conn.execute(f\"UPDATE ACCOUNT SET balance = balance - '{withdraw}' WHERE accno={accno}\")\n",
        "    conn.commit()\n",
        "    print(f\"Withdrawal with the amount of {withdraw} is successful for Account Number: {accno}.\")\n",
        "    cursor = conn.cursor()\n",
        "    cursor.execute(f\"SELECT balance FROM ACCOUNT WHERE accno = '{accno}'\")\n",
        "    new_balance = cursor.fetchone()[0]\n",
        "    print(f\"Your new balance is {new_balance:.2f}.\")\n",
        "    conn.close()\n",
        "\n",
        "accno = \"123456789\"\n",
        "withdraw = \"6000\"\n",
        "\n",
        "withdraw_balance(accno, withdraw)"
      ],
      "metadata": {
        "colab": {
          "base_uri": "https://localhost:8080/",
          "height": 0
        },
        "id": "A677GhkVczP-",
        "outputId": "e1553164-80b9-48fb-a8be-e4d0645b08a8"
      },
      "execution_count": 112,
      "outputs": [
        {
          "output_type": "stream",
          "name": "stdout",
          "text": [
            "Withdrawal with the amount of 6000 is successful for Account Number: 123456789.\n",
            "Your new balance is 4079.89.\n"
          ]
        }
      ]
    },
    {
      "cell_type": "code",
      "source": [
        "# DEPOSIT AND UPDATE BALANCE IN ACCOUNT\n",
        "import sqlite3\n",
        "conn = sqlite3.connect('banking.db')\n",
        "def deposit_balance(accno, deposit):\n",
        "    conn.execute(f\"UPDATE ACCOUNT SET balance = balance + '{deposit}' WHERE accno={accno}\")\n",
        "    conn.commit()\n",
        "    print(f\"Deposit with the amount of {deposit} is successful for Account Number: {accno}.\")\n",
        "    cursor = conn.cursor()\n",
        "    cursor.execute(f\"SELECT balance FROM ACCOUNT WHERE accno = '{accno}'\")\n",
        "    new_balance = cursor.fetchone()[0]\n",
        "    print(f\"Your new balance is {new_balance:.2f}.\")\n",
        "    conn.close()\n",
        "\n",
        "accno = \"123456789\"\n",
        "deposit = \"4000.99\"\n",
        "\n",
        "deposit_balance(accno, deposit)"
      ],
      "metadata": {
        "colab": {
          "base_uri": "https://localhost:8080/",
          "height": 0
        },
        "id": "4Dif83cKVjMR",
        "outputId": "ab6b2339-251b-4c0d-a195-c91164b3cf33"
      },
      "execution_count": 113,
      "outputs": [
        {
          "output_type": "stream",
          "name": "stdout",
          "text": [
            "Deposit with the amount of 4000.99 is successful for Account Number: 123456789.\n",
            "Your new balance is 8080.88.\n"
          ]
        }
      ]
    },
    {
      "cell_type": "code",
      "source": [
        "# CHECK CURRENT BALANCE\n",
        "import sqlite3\n",
        "conn = sqlite3.connect('banking.db')\n",
        "def check_balance(accno):\n",
        "  cursor= conn.cursor()\n",
        "  cursor.execute(f\"SELECT balance FROM ACCOUNT WHERE accno = '{accno}'\")\n",
        "  current_balance = cursor.fetchone()[0]\n",
        "  print(f\"Your current balance is {current_balance:.2f}.\")\n",
        "  conn.close()\n",
        "\n",
        "accno = \"123456789\"\n",
        "\n",
        "check_balance(accno)"
      ],
      "metadata": {
        "colab": {
          "base_uri": "https://localhost:8080/",
          "height": 0
        },
        "id": "Hu2p4CScfayy",
        "outputId": "60e0999f-c8e6-468b-e100-09e2324f7de8"
      },
      "execution_count": 114,
      "outputs": [
        {
          "output_type": "stream",
          "name": "stdout",
          "text": [
            "Your current balance is 8080.88.\n"
          ]
        }
      ]
    },
    {
      "cell_type": "code",
      "source": [
        "# DELETE ACCOUNT\n",
        "import sqlite3\n",
        "conn = sqlite3.connect('banking.db')\n",
        "def delete_account(accno):\n",
        "    conn.execute(f\"DELETE FROM ACCOUNT WHERE accno = {accno}\")\n",
        "    conn.commit()\n",
        "    print(f\"Account for Account Number: {accno} has been deleted.\")\n",
        "    conn.close()\n",
        "\n",
        "account = \"123456789\"\n",
        "\n",
        "delete_account(account)"
      ],
      "metadata": {
        "colab": {
          "base_uri": "https://localhost:8080/",
          "height": 0
        },
        "id": "xnPu2Z82h7B-",
        "outputId": "bc6407b3-3dc1-48e1-eed4-77aeb439cccb"
      },
      "execution_count": 109,
      "outputs": [
        {
          "output_type": "stream",
          "name": "stdout",
          "text": [
            "Account for Account Number: 123456789 has been deleted.\n"
          ]
        }
      ]
    },
    {
      "cell_type": "code",
      "source": [
        "# SHOW ALL BANK LOANS (FOR CHECKING PURPOSES)\n",
        "import sqlite3\n",
        "conn = sqlite3.connect('banking.db')\n",
        "cursor = conn.cursor()\n",
        "cursor.execute(\"SELECT * FROM BANK\")\n",
        "for record in cursor.fetchall():\n",
        "  print(record)\n",
        "conn.close()"
      ],
      "metadata": {
        "id": "wczj4Wf-mhwt"
      },
      "execution_count": 149,
      "outputs": []
    },
    {
      "cell_type": "code",
      "source": [
        "# CREATE BANK LOAN\n",
        "import sqlite3\n",
        "conn = sqlite3.connect('banking.db')\n",
        "def create_loan(custdetails, loandetails, txno, txdate, txtime):\n",
        "    conn.execute(f\"INSERT INTO BANK (custdetails, loandetails, txno, txdate, txtime) VALUES ('{custdetails}', '{loandetails}', '{txno}', '{txdate}', '{txtime}')\")\n",
        "    conn.commit()\n",
        "    print(f\"Bank loan granted to Accnount Number {custdetails} with the amount of {loandetails}. Your transaction number is {txno} on {txdate} {txtime}.\")\n",
        "    conn.close()\n",
        "\n",
        "custdetails = \"123456789\"\n",
        "loandetails = \"200000.00\"\n",
        "txno = \"12345\"\n",
        "txdate = \"2024-11-26\" # YYYY-MM-DD\n",
        "txtime = \"07:08:01\" # HH:MI:SS\n",
        "\n",
        "create_loan(custdetails, loandetails, txno, txdate, txtime)"
      ],
      "metadata": {
        "colab": {
          "base_uri": "https://localhost:8080/",
          "height": 0
        },
        "id": "W7k3qD1mivOD",
        "outputId": "7256af55-3df3-48e8-8e9e-2bbd91bf6e50"
      },
      "execution_count": 150,
      "outputs": [
        {
          "output_type": "stream",
          "name": "stdout",
          "text": [
            "Bank loan granted to Accnount Number 123456789 with the amount of 200000.00. Your transaction number is 12345 on 2024-11-26 07:08:01.\n"
          ]
        }
      ]
    },
    {
      "cell_type": "code",
      "source": [
        "# PAY BANK LOAN\n",
        "import sqlite3\n",
        "conn = sqlite3.connect('banking.db')\n",
        "def pay_loan(custdetails, payment, txno, txdate, txtime):\n",
        "    conn.execute(f\"UPDATE BANK SET loandetails = loandetails - '{payment}' WHERE custdetails = '{custdetails}'\")\n",
        "    conn.commit()\n",
        "    print(f\"Payment with the amount of {payment} is successful for Account Number: {custdetails}. Your transaction number is {txno} on {txdate} {txtime}.\")\n",
        "    cursor = conn.cursor()\n",
        "    cursor.execute(f\"SELECT loandetails FROM BANK WHERE custdetails = '{custdetails}'\")\n",
        "    remaining_loan = cursor.fetchone()[0]\n",
        "    print(f\"Your remaining payment is {remaining_loan:.2f}.\")\n",
        "    conn.close()\n",
        "\n",
        "custdetails = \"123456789\"\n",
        "payment = \"20000.00\"\n",
        "txno = \"12345\"\n",
        "txdate = \"2025-02-15\" # YYYY-MM-DD\n",
        "txtime = \"10:08:01\" # HH:MI:SS\n",
        "\n",
        "pay_loan(custdetails, payment, txno, txdate, txtime)"
      ],
      "metadata": {
        "colab": {
          "base_uri": "https://localhost:8080/",
          "height": 0
        },
        "id": "-RXTdBO4qHFR",
        "outputId": "aff0e79f-88ef-4625-f011-9d70d0957405"
      },
      "execution_count": 151,
      "outputs": [
        {
          "output_type": "stream",
          "name": "stdout",
          "text": [
            "Payment with the amount of 20000.00 is successful for Account Number: 123456789. Your transaction number is 12345 on 2025-02-15 10:08:01.\n",
            "Your remaining payment is 180000.00.\n"
          ]
        }
      ]
    },
    {
      "cell_type": "code",
      "source": [
        "# GET ADDITIONAL BANK LOAN\n",
        "import sqlite3\n",
        "conn = sqlite3.connect('banking.db')\n",
        "def pay_loan(custdetails, payment, txno, txdate, txtime):\n",
        "    conn.execute(f\"UPDATE BANK SET loandetails = loandetails + '{payment}' WHERE custdetails = '{custdetails}'\")\n",
        "    conn.commit()\n",
        "    print(f\"Payment with the amount of {payment} is successful for Account Number: {custdetails}. Your transaction number is {txno} on {txdate} {txtime}.\")\n",
        "    cursor = conn.cursor()\n",
        "    cursor.execute(f\"SELECT loandetails FROM BANK WHERE custdetails = '{custdetails}'\")\n",
        "    remaining_loan = cursor.fetchone()[0]\n",
        "    print(f\"Your remaining payment is {remaining_loan:.2f}.\")\n",
        "    conn.close()\n",
        "\n",
        "custdetails = \"123456789\"\n",
        "payment = \"40000.00\"\n",
        "txno = \"12345\"\n",
        "txdate = \"2025-04-20\" # YYYY-MM-DD\n",
        "txtime = \"09:08:01\" # HH:MI:SS\n",
        "\n",
        "pay_loan(custdetails, payment, txno, txdate, txtime)"
      ],
      "metadata": {
        "colab": {
          "base_uri": "https://localhost:8080/",
          "height": 0
        },
        "id": "p3Q6zKaKsJbR",
        "outputId": "c2baecb6-25be-4cd4-e9bc-45153a80164c"
      },
      "execution_count": 152,
      "outputs": [
        {
          "output_type": "stream",
          "name": "stdout",
          "text": [
            "Payment with the amount of 40000.00 is successful for Account Number: 123456789. Your transaction number is 12345 on 2025-04-20 09:08:01.\n",
            "Your remaining payment is 220000.00.\n"
          ]
        }
      ]
    },
    {
      "cell_type": "code",
      "source": [
        "# DELETE BANK LOAN\n",
        "import sqlite3\n",
        "conn = sqlite3.connect('banking.db')\n",
        "def delete_loan(custdetails):\n",
        "    conn.execute(f\"DELETE FROM BANK WHERE custdetails = '{custdetails}'\")\n",
        "    conn.commit()\n",
        "    print(f\"Bank loan for Account Number: {custdetails} has been deleted.\")\n",
        "    conn.close()\n",
        "\n",
        "account = \"123456789\"\n",
        "\n",
        "delete_loan(account)"
      ],
      "metadata": {
        "colab": {
          "base_uri": "https://localhost:8080/",
          "height": 0
        },
        "id": "24dA6OFXtIII",
        "outputId": "3853197d-3db0-4000-b554-3fa69783f7e6"
      },
      "execution_count": 148,
      "outputs": [
        {
          "output_type": "stream",
          "name": "stdout",
          "text": [
            "Bank loan for Account Number: 123456789 has been deleted.\n"
          ]
        }
      ]
    },
    {
      "cell_type": "markdown",
      "source": [
        "**Conclusion:** SQL and Python can work hand in hand to create a powerful combination of codes and functions to work with large datasets. SQL is a powerful tool that is build to manage databases and combining that with python that is a powerful tool in data analysis and data wrangling among other things. When combined there is so much potential that can be done without the use of paid proprietary products which can be costly and might have legal issues if misused. These exercises are a great way to know and practice how to integrate both SQL and Python for more functionality and flexibility."
      ],
      "metadata": {
        "id": "gShz_Plpvy_w"
      }
    }
  ]
}