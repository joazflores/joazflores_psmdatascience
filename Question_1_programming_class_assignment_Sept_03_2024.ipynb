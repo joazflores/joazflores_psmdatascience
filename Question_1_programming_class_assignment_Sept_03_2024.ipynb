{
 "cells": [
  {
   "cell_type": "code",
   "execution_count": 36,
   "id": "97c5d184-de82-4e7f-90cf-7a3e499db084",
   "metadata": {},
   "outputs": [
    {
     "name": "stdout",
     "output_type": "stream",
     "text": [
      "green eggs and ham\n"
     ]
    }
   ],
   "source": [
    "#1. Type the expressions below, and try to explain what's happening in each case.\n",
    "\n",
    "#Question 1.1:\n",
    "\n",
    "#print(2 ** 16) #This code is the same as 2^16 in math\n",
    "#print(2 / 5, 2 / 5.0) #This code show 2 divided by 5 which is 0.4 the first one before the comma is an int data type and the one after the comma is a float data type.\n",
    "#print(\"spam\" + \"eggs\") #This code concatenates spam and eggs without a space so it prints spameggs.\n",
    "\n",
    "#S = \"ham\"\n",
    "#print(S)\n",
    "#This code assigns the word \"ham\" as variable S.\n",
    "\n",
    "#print(\"eggs \" + S) #This code concatenates the word \"eggs\" with variable \"S\" which prints eggs ham.\n",
    "#print(S*5) #This code repeats variable S five times which is hamhamhamhamham.\n",
    "#print(S[:0]) #This code will try to return variable S which is ham but will stop at 0 meaning it will not return anything printing blank.\n",
    "\n",
    "#print(\"green %s and %s\" % (\"eggs\", S)) \n",
    "#This code uses the %s which is a kind of string formatting that references another string variable.\n",
    "#Where the order is defined by the variables after the % and inside the ().\n",
    "#The first %s returns the word eggs and the second %s returns the variable S which is ham. So the output would be green eggs and ham."
   ]
  },
  {
   "cell_type": "code",
   "execution_count": 42,
   "id": "50a1a3b9-2fdd-4801-aba8-3db17a59ca1e",
   "metadata": {},
   "outputs": [
    {
     "name": "stdout",
     "output_type": "stream",
     "text": [
      "y\n"
     ]
    }
   ],
   "source": [
    "#Question 1.2:\n",
    "\n",
    "#print(('x',) [0]) #This code is a Tuple with index 0 which outputs x.\n",
    "#print(('x', 'y') [1]) #This code is a Tuble with index 1 which outputs y."
   ]
  },
  {
   "cell_type": "code",
   "execution_count": 82,
   "id": "e6a7de65-e3c7-43f4-9155-05471fa05502",
   "metadata": {},
   "outputs": [
    {
     "name": "stdout",
     "output_type": "stream",
     "text": [
      "3\n"
     ]
    }
   ],
   "source": [
    "#Question 1.3:\n",
    "\n",
    "#L = [1,2,3] + [4,5,6]\n",
    "#print(L)\n",
    "#This code concatenates 2 lists.\n",
    "\n",
    "#print(L, L[:], L[:0], L[-2], L[-2:])\n",
    "#This code prints list L in different ways:\n",
    "#1st: All the list.\n",
    "#2nd: Copy of the list.\n",
    "#3rd: Returns nothing.\n",
    "#4th: Returns second to the last of the list.\n",
    "#5th returns values starting from second to the last of the list.\n",
    "\n",
    "#print(([1,2,3] + [4,5,6]) [2:4])\n",
    "#This code concatenates 2 lists then slices index [2:4].\n",
    "\n",
    "#print([L[2], L[3]])\n",
    "#This code creates a new list from index 2 and 3.\n",
    "\n",
    "#L.reverse(); L \n",
    "#print(L)\n",
    "#This code returns the list in reverse.\n",
    "\n",
    "#L.sort(); L \n",
    "#print(L)\n",
    "#This code prints the list in ascending order.\n",
    "\n",
    "#print(L.index(4))\n",
    "#This code prints list L with index 4 to return the value 3.\n",
    "\n",
    "#print({'a':1, 'b':2} ['b'])\n",
    "#This code prints key b of the dictionary which is 2."
   ]
  },
  {
   "cell_type": "code",
   "execution_count": 137,
   "id": "bb7ad3eb-1080-4020-8803-16d8431c3ce6",
   "metadata": {},
   "outputs": [
    {
     "name": "stdout",
     "output_type": "stream",
     "text": [
      "[[]] ['', [], {}, None]\n"
     ]
    }
   ],
   "source": [
    "#Question 1.4:\n",
    "\n",
    "#D = {'x':1, 'y':2, 'z':3}\n",
    "#print(D)\n",
    "#This code creates a dictionary.\n",
    "\n",
    "#D['w'] = 0\n",
    "#print(D)\n",
    "#This code adds a new key D with the value 0.\n",
    "\n",
    "#print(D['x'] + D['w'])\n",
    "#This code outputs keys x and w from dictionary D and adds them 1+0 = 1.\n",
    "\n",
    "#D[(1,2,3)] = 4\n",
    "#print(D)\n",
    "#This code adds the Tuple 1,2,3 as a key for value 4 in dictionary D.\n",
    "\n",
    "#print(D.keys())\n",
    "#Shows the keys for the dictionary D.\n",
    "\n",
    "#print(D.values())\n",
    "#Shows the values for dictionary D.\n",
    "\n",
    "#print(D.has_key((1,2,3)) --Not working not sure if version related?--\n",
    "#print((1,2,3) in D) --Corrected version--\n",
    "#Checks if tuple(1,2,3) is a key in dictionary D.\n",
    "\n",
    "#print([[]], [\"\", [], {}, None])\n",
    "#I am not sure what this is but it prints exactly the same expressions."
   ]
  },
  {
   "cell_type": "code",
   "execution_count": null,
   "id": "1a5746ef-429d-4b37-b019-6cddb285d050",
   "metadata": {},
   "outputs": [],
   "source": []
  }
 ],
 "metadata": {
  "kernelspec": {
   "display_name": "Python 3 (ipykernel)",
   "language": "python",
   "name": "python3"
  },
  "language_info": {
   "codemirror_mode": {
    "name": "ipython",
    "version": 3
   },
   "file_extension": ".py",
   "mimetype": "text/x-python",
   "name": "python",
   "nbconvert_exporter": "python",
   "pygments_lexer": "ipython3",
   "version": "3.12.4"
  }
 },
 "nbformat": 4,
 "nbformat_minor": 5
}
